{
 "cells": [
  {
   "cell_type": "markdown",
   "metadata": {},
   "source": [
    "# Importing packages "
   ]
  },
  {
   "cell_type": "code",
   "execution_count": 1,
   "metadata": {},
   "outputs": [],
   "source": [
    "# Data wrangling \n",
    "import pandas as pd \n",
    "\n",
    "# Dates\n",
    "from datetime import datetime\n",
    "\n",
    "# Iteration tracking\n",
    "from tqdm import tqdm\n",
    "import time\n",
    "\n",
    "# Array math\n",
    "import numpy as np\n",
    "\n",
    "# Ploting \n",
    "import matplotlib.pyplot as plt\n",
    "\n",
    "# Xgboost models \n",
    "import xgboost as xgb\n",
    "\n",
    "# Grid search for paramters\n",
    "from sklearn.model_selection import ParameterGrid"
   ]
  },
  {
   "cell_type": "markdown",
   "metadata": {},
   "source": [
    "# Reading train data "
   ]
  },
  {
   "cell_type": "code",
   "execution_count": 28,
   "metadata": {},
   "outputs": [],
   "source": [
    "d = pd.read_csv('train_data.csv', low_memory=False)"
   ]
  },
  {
   "cell_type": "code",
   "execution_count": 29,
   "metadata": {},
   "outputs": [
    {
     "data": {
      "text/plain": [
       "Store              int64\n",
       "DayOfWeek          int64\n",
       "Date              object\n",
       "Sales              int64\n",
       "ShopOpen           int64\n",
       "Promotion          int64\n",
       "StateHoliday      object\n",
       "SchoolHoliday      int64\n",
       "StoreType         object\n",
       "AssortmentType    object\n",
       "dtype: object"
      ]
     },
     "execution_count": 29,
     "metadata": {},
     "output_type": "execute_result"
    }
   ],
   "source": [
    "d.dtypes"
   ]
  },
  {
   "cell_type": "code",
   "execution_count": 30,
   "metadata": {},
   "outputs": [
    {
     "name": "stdout",
     "output_type": "stream",
     "text": [
      "Shape of data: (1017209, 10)\n"
     ]
    }
   ],
   "source": [
    "print(f\"Shape of data: {d.shape}\")"
   ]
  },
  {
   "cell_type": "code",
   "execution_count": 31,
   "metadata": {},
   "outputs": [
    {
     "data": {
      "text/html": [
       "<div>\n",
       "<style scoped>\n",
       "    .dataframe tbody tr th:only-of-type {\n",
       "        vertical-align: middle;\n",
       "    }\n",
       "\n",
       "    .dataframe tbody tr th {\n",
       "        vertical-align: top;\n",
       "    }\n",
       "\n",
       "    .dataframe thead th {\n",
       "        text-align: right;\n",
       "    }\n",
       "</style>\n",
       "<table border=\"1\" class=\"dataframe\">\n",
       "  <thead>\n",
       "    <tr style=\"text-align: right;\">\n",
       "      <th></th>\n",
       "      <th>Store</th>\n",
       "      <th>DayOfWeek</th>\n",
       "      <th>Date</th>\n",
       "      <th>Sales</th>\n",
       "      <th>ShopOpen</th>\n",
       "      <th>Promotion</th>\n",
       "      <th>StateHoliday</th>\n",
       "      <th>SchoolHoliday</th>\n",
       "      <th>StoreType</th>\n",
       "      <th>AssortmentType</th>\n",
       "    </tr>\n",
       "  </thead>\n",
       "  <tbody>\n",
       "    <tr>\n",
       "      <th>0</th>\n",
       "      <td>1</td>\n",
       "      <td>5</td>\n",
       "      <td>2015-07-31</td>\n",
       "      <td>5263</td>\n",
       "      <td>1</td>\n",
       "      <td>1</td>\n",
       "      <td>0</td>\n",
       "      <td>1</td>\n",
       "      <td>c</td>\n",
       "      <td>a</td>\n",
       "    </tr>\n",
       "    <tr>\n",
       "      <th>1</th>\n",
       "      <td>2</td>\n",
       "      <td>5</td>\n",
       "      <td>2015-07-31</td>\n",
       "      <td>6064</td>\n",
       "      <td>1</td>\n",
       "      <td>1</td>\n",
       "      <td>0</td>\n",
       "      <td>1</td>\n",
       "      <td>a</td>\n",
       "      <td>a</td>\n",
       "    </tr>\n",
       "    <tr>\n",
       "      <th>2</th>\n",
       "      <td>3</td>\n",
       "      <td>5</td>\n",
       "      <td>2015-07-31</td>\n",
       "      <td>8314</td>\n",
       "      <td>1</td>\n",
       "      <td>1</td>\n",
       "      <td>0</td>\n",
       "      <td>1</td>\n",
       "      <td>a</td>\n",
       "      <td>a</td>\n",
       "    </tr>\n",
       "    <tr>\n",
       "      <th>3</th>\n",
       "      <td>4</td>\n",
       "      <td>5</td>\n",
       "      <td>2015-07-31</td>\n",
       "      <td>13995</td>\n",
       "      <td>1</td>\n",
       "      <td>1</td>\n",
       "      <td>0</td>\n",
       "      <td>1</td>\n",
       "      <td>c</td>\n",
       "      <td>c</td>\n",
       "    </tr>\n",
       "    <tr>\n",
       "      <th>4</th>\n",
       "      <td>5</td>\n",
       "      <td>5</td>\n",
       "      <td>2015-07-31</td>\n",
       "      <td>4822</td>\n",
       "      <td>1</td>\n",
       "      <td>1</td>\n",
       "      <td>0</td>\n",
       "      <td>1</td>\n",
       "      <td>a</td>\n",
       "      <td>a</td>\n",
       "    </tr>\n",
       "    <tr>\n",
       "      <th>5</th>\n",
       "      <td>6</td>\n",
       "      <td>5</td>\n",
       "      <td>2015-07-31</td>\n",
       "      <td>5651</td>\n",
       "      <td>1</td>\n",
       "      <td>1</td>\n",
       "      <td>0</td>\n",
       "      <td>1</td>\n",
       "      <td>a</td>\n",
       "      <td>a</td>\n",
       "    </tr>\n",
       "    <tr>\n",
       "      <th>6</th>\n",
       "      <td>7</td>\n",
       "      <td>5</td>\n",
       "      <td>2015-07-31</td>\n",
       "      <td>15344</td>\n",
       "      <td>1</td>\n",
       "      <td>1</td>\n",
       "      <td>0</td>\n",
       "      <td>1</td>\n",
       "      <td>a</td>\n",
       "      <td>c</td>\n",
       "    </tr>\n",
       "    <tr>\n",
       "      <th>7</th>\n",
       "      <td>8</td>\n",
       "      <td>5</td>\n",
       "      <td>2015-07-31</td>\n",
       "      <td>8492</td>\n",
       "      <td>1</td>\n",
       "      <td>1</td>\n",
       "      <td>0</td>\n",
       "      <td>1</td>\n",
       "      <td>a</td>\n",
       "      <td>a</td>\n",
       "    </tr>\n",
       "    <tr>\n",
       "      <th>8</th>\n",
       "      <td>9</td>\n",
       "      <td>5</td>\n",
       "      <td>2015-07-31</td>\n",
       "      <td>8565</td>\n",
       "      <td>1</td>\n",
       "      <td>1</td>\n",
       "      <td>0</td>\n",
       "      <td>1</td>\n",
       "      <td>a</td>\n",
       "      <td>c</td>\n",
       "    </tr>\n",
       "    <tr>\n",
       "      <th>9</th>\n",
       "      <td>10</td>\n",
       "      <td>5</td>\n",
       "      <td>2015-07-31</td>\n",
       "      <td>7185</td>\n",
       "      <td>1</td>\n",
       "      <td>1</td>\n",
       "      <td>0</td>\n",
       "      <td>1</td>\n",
       "      <td>a</td>\n",
       "      <td>a</td>\n",
       "    </tr>\n",
       "  </tbody>\n",
       "</table>\n",
       "</div>"
      ],
      "text/plain": [
       "   Store  DayOfWeek        Date  Sales  ShopOpen  Promotion StateHoliday  \\\n",
       "0      1          5  2015-07-31   5263         1          1            0   \n",
       "1      2          5  2015-07-31   6064         1          1            0   \n",
       "2      3          5  2015-07-31   8314         1          1            0   \n",
       "3      4          5  2015-07-31  13995         1          1            0   \n",
       "4      5          5  2015-07-31   4822         1          1            0   \n",
       "5      6          5  2015-07-31   5651         1          1            0   \n",
       "6      7          5  2015-07-31  15344         1          1            0   \n",
       "7      8          5  2015-07-31   8492         1          1            0   \n",
       "8      9          5  2015-07-31   8565         1          1            0   \n",
       "9     10          5  2015-07-31   7185         1          1            0   \n",
       "\n",
       "   SchoolHoliday StoreType AssortmentType  \n",
       "0              1         c              a  \n",
       "1              1         a              a  \n",
       "2              1         a              a  \n",
       "3              1         c              c  \n",
       "4              1         a              a  \n",
       "5              1         a              a  \n",
       "6              1         a              c  \n",
       "7              1         a              a  \n",
       "8              1         a              c  \n",
       "9              1         a              a  "
      ]
     },
     "execution_count": 31,
     "metadata": {},
     "output_type": "execute_result"
    }
   ],
   "source": [
    "d.head(10)"
   ]
  },
  {
   "cell_type": "markdown",
   "metadata": {},
   "source": [
    "# Data preprocesing and feature engineering"
   ]
  },
  {
   "cell_type": "code",
   "execution_count": 32,
   "metadata": {},
   "outputs": [],
   "source": [
    "# Converting to categorical all the categorical variables\n",
    "cat_cols = [\n",
    "    'Store', \n",
    "    'DayOfWeek', \n",
    "    'ShopOpen', \n",
    "    'Promotion', \n",
    "    'StateHoliday', \n",
    "    'SchoolHoliday', \n",
    "    'StoreType', \n",
    "    'AssortmentType'\n",
    "]\n",
    "\n",
    "d[cat_cols] = d[cat_cols].astype(str)"
   ]
  },
  {
   "cell_type": "code",
   "execution_count": 33,
   "metadata": {},
   "outputs": [
    {
     "name": "stderr",
     "output_type": "stream",
     "text": [
      "100%|██████████| 1017209/1017209 [00:05<00:00, 195622.32it/s]\n",
      "100%|██████████| 1017209/1017209 [00:00<00:00, 1173235.49it/s]\n"
     ]
    }
   ],
   "source": [
    "# Converting the Date column to datetime object\n",
    "d['Date'] = [datetime.strptime(x, '%Y-%m-%d') for x in tqdm(d['Date'])]\n",
    "\n",
    "# Getting the day of month \n",
    "d['day_of_month'] = [x.day for x in tqdm(d['Date'])]"
   ]
  },
  {
   "cell_type": "markdown",
   "metadata": {},
   "source": [
    "## Adding the month of the year as a feature "
   ]
  },
  {
   "cell_type": "code",
   "execution_count": 35,
   "metadata": {},
   "outputs": [],
   "source": [
    "d['month_year'] = [str(x.month) for x in d['Date']]"
   ]
  },
  {
   "cell_type": "code",
   "execution_count": 36,
   "metadata": {},
   "outputs": [
    {
     "data": {
      "text/html": [
       "<div>\n",
       "<style scoped>\n",
       "    .dataframe tbody tr th:only-of-type {\n",
       "        vertical-align: middle;\n",
       "    }\n",
       "\n",
       "    .dataframe tbody tr th {\n",
       "        vertical-align: top;\n",
       "    }\n",
       "\n",
       "    .dataframe thead th {\n",
       "        text-align: right;\n",
       "    }\n",
       "</style>\n",
       "<table border=\"1\" class=\"dataframe\">\n",
       "  <thead>\n",
       "    <tr style=\"text-align: right;\">\n",
       "      <th></th>\n",
       "      <th>Store</th>\n",
       "      <th>DayOfWeek</th>\n",
       "      <th>Date</th>\n",
       "      <th>Sales</th>\n",
       "      <th>ShopOpen</th>\n",
       "      <th>Promotion</th>\n",
       "      <th>StateHoliday</th>\n",
       "      <th>SchoolHoliday</th>\n",
       "      <th>StoreType</th>\n",
       "      <th>AssortmentType</th>\n",
       "      <th>day_of_month</th>\n",
       "      <th>month_year</th>\n",
       "    </tr>\n",
       "  </thead>\n",
       "  <tbody>\n",
       "    <tr>\n",
       "      <th>382569</th>\n",
       "      <td>392</td>\n",
       "      <td>1</td>\n",
       "      <td>2014-07-28</td>\n",
       "      <td>10333</td>\n",
       "      <td>1</td>\n",
       "      <td>1</td>\n",
       "      <td>0</td>\n",
       "      <td>1</td>\n",
       "      <td>a</td>\n",
       "      <td>a</td>\n",
       "      <td>28</td>\n",
       "      <td>7</td>\n",
       "    </tr>\n",
       "    <tr>\n",
       "      <th>256571</th>\n",
       "      <td>667</td>\n",
       "      <td>3</td>\n",
       "      <td>2014-12-10</td>\n",
       "      <td>8010</td>\n",
       "      <td>1</td>\n",
       "      <td>0</td>\n",
       "      <td>0</td>\n",
       "      <td>0</td>\n",
       "      <td>d</td>\n",
       "      <td>c</td>\n",
       "      <td>10</td>\n",
       "      <td>12</td>\n",
       "    </tr>\n",
       "    <tr>\n",
       "      <th>645791</th>\n",
       "      <td>992</td>\n",
       "      <td>6</td>\n",
       "      <td>2013-11-30</td>\n",
       "      <td>4639</td>\n",
       "      <td>1</td>\n",
       "      <td>0</td>\n",
       "      <td>0</td>\n",
       "      <td>0</td>\n",
       "      <td>a</td>\n",
       "      <td>a</td>\n",
       "      <td>30</td>\n",
       "      <td>11</td>\n",
       "    </tr>\n",
       "    <tr>\n",
       "      <th>947456</th>\n",
       "      <td>492</td>\n",
       "      <td>1</td>\n",
       "      <td>2013-03-04</td>\n",
       "      <td>10468</td>\n",
       "      <td>1</td>\n",
       "      <td>1</td>\n",
       "      <td>0</td>\n",
       "      <td>0</td>\n",
       "      <td>a</td>\n",
       "      <td>a</td>\n",
       "      <td>4</td>\n",
       "      <td>3</td>\n",
       "    </tr>\n",
       "    <tr>\n",
       "      <th>729605</th>\n",
       "      <td>66</td>\n",
       "      <td>7</td>\n",
       "      <td>2013-09-15</td>\n",
       "      <td>0</td>\n",
       "      <td>0</td>\n",
       "      <td>0</td>\n",
       "      <td>0</td>\n",
       "      <td>0</td>\n",
       "      <td>d</td>\n",
       "      <td>a</td>\n",
       "      <td>15</td>\n",
       "      <td>9</td>\n",
       "    </tr>\n",
       "    <tr>\n",
       "      <th>369148</th>\n",
       "      <td>1114</td>\n",
       "      <td>2</td>\n",
       "      <td>2014-08-12</td>\n",
       "      <td>19487</td>\n",
       "      <td>1</td>\n",
       "      <td>0</td>\n",
       "      <td>0</td>\n",
       "      <td>1</td>\n",
       "      <td>a</td>\n",
       "      <td>c</td>\n",
       "      <td>12</td>\n",
       "      <td>8</td>\n",
       "    </tr>\n",
       "    <tr>\n",
       "      <th>589692</th>\n",
       "      <td>643</td>\n",
       "      <td>7</td>\n",
       "      <td>2014-01-19</td>\n",
       "      <td>0</td>\n",
       "      <td>0</td>\n",
       "      <td>0</td>\n",
       "      <td>0</td>\n",
       "      <td>0</td>\n",
       "      <td>a</td>\n",
       "      <td>a</td>\n",
       "      <td>19</td>\n",
       "      <td>1</td>\n",
       "    </tr>\n",
       "    <tr>\n",
       "      <th>631249</th>\n",
       "      <td>945</td>\n",
       "      <td>5</td>\n",
       "      <td>2013-12-13</td>\n",
       "      <td>4915</td>\n",
       "      <td>1</td>\n",
       "      <td>0</td>\n",
       "      <td>0</td>\n",
       "      <td>0</td>\n",
       "      <td>a</td>\n",
       "      <td>c</td>\n",
       "      <td>13</td>\n",
       "      <td>12</td>\n",
       "    </tr>\n",
       "    <tr>\n",
       "      <th>711304</th>\n",
       "      <td>720</td>\n",
       "      <td>3</td>\n",
       "      <td>2013-10-02</td>\n",
       "      <td>7228</td>\n",
       "      <td>1</td>\n",
       "      <td>0</td>\n",
       "      <td>0</td>\n",
       "      <td>0</td>\n",
       "      <td>a</td>\n",
       "      <td>c</td>\n",
       "      <td>2</td>\n",
       "      <td>10</td>\n",
       "    </tr>\n",
       "    <tr>\n",
       "      <th>614840</th>\n",
       "      <td>146</td>\n",
       "      <td>5</td>\n",
       "      <td>2013-12-27</td>\n",
       "      <td>7497</td>\n",
       "      <td>1</td>\n",
       "      <td>0</td>\n",
       "      <td>0</td>\n",
       "      <td>1</td>\n",
       "      <td>d</td>\n",
       "      <td>c</td>\n",
       "      <td>27</td>\n",
       "      <td>12</td>\n",
       "    </tr>\n",
       "  </tbody>\n",
       "</table>\n",
       "</div>"
      ],
      "text/plain": [
       "       Store DayOfWeek       Date  Sales ShopOpen Promotion StateHoliday  \\\n",
       "382569   392         1 2014-07-28  10333        1         1            0   \n",
       "256571   667         3 2014-12-10   8010        1         0            0   \n",
       "645791   992         6 2013-11-30   4639        1         0            0   \n",
       "947456   492         1 2013-03-04  10468        1         1            0   \n",
       "729605    66         7 2013-09-15      0        0         0            0   \n",
       "369148  1114         2 2014-08-12  19487        1         0            0   \n",
       "589692   643         7 2014-01-19      0        0         0            0   \n",
       "631249   945         5 2013-12-13   4915        1         0            0   \n",
       "711304   720         3 2013-10-02   7228        1         0            0   \n",
       "614840   146         5 2013-12-27   7497        1         0            0   \n",
       "\n",
       "       SchoolHoliday StoreType AssortmentType  day_of_month month_year  \n",
       "382569             1         a              a            28          7  \n",
       "256571             0         d              c            10         12  \n",
       "645791             0         a              a            30         11  \n",
       "947456             0         a              a             4          3  \n",
       "729605             0         d              a            15          9  \n",
       "369148             1         a              c            12          8  \n",
       "589692             0         a              a            19          1  \n",
       "631249             0         a              c            13         12  \n",
       "711304             0         a              c             2         10  \n",
       "614840             1         d              c            27         12  "
      ]
     },
     "execution_count": 36,
     "metadata": {},
     "output_type": "execute_result"
    }
   ],
   "source": [
    "d.sample(10)"
   ]
  },
  {
   "cell_type": "markdown",
   "metadata": {},
   "source": [
    "## Unique categorical value list "
   ]
  },
  {
   "cell_type": "code",
   "execution_count": 37,
   "metadata": {},
   "outputs": [
    {
     "data": {
      "text/plain": [
       "Store             1115\n",
       "DayOfWeek            7\n",
       "ShopOpen             2\n",
       "Promotion            2\n",
       "StateHoliday         4\n",
       "SchoolHoliday        2\n",
       "StoreType            4\n",
       "AssortmentType       3\n",
       "day_of_month        31\n",
       "month_year          12\n",
       "dtype: int64"
      ]
     },
     "execution_count": 37,
     "metadata": {},
     "output_type": "execute_result"
    }
   ],
   "source": [
    "d[cat_cols + ['day_of_month', 'month_year']].nunique()"
   ]
  },
  {
   "cell_type": "markdown",
   "metadata": {},
   "source": [
    "## Distribution of the Y variable "
   ]
  },
  {
   "cell_type": "code",
   "execution_count": 14,
   "metadata": {},
   "outputs": [
    {
     "data": {
      "image/png": "[encoded data removed]",
      "text/plain": [
       "<Figure size 432x288 with 1 Axes>"
      ]
     },
     "metadata": {
      "needs_background": "light"
     },
     "output_type": "display_data"
    }
   ],
   "source": [
    "plt.hist(d['Sales'], edgecolor='black', bins=20)\n",
    "plt.title('Distribution of sales in a given day')\n",
    "plt.show()"
   ]
  },
  {
   "cell_type": "code",
   "execution_count": 15,
   "metadata": {},
   "outputs": [
    {
     "data": {
      "text/plain": [
       "count    1017209.00\n",
       "mean        5773.82\n",
       "std         3849.93\n",
       "min            0.00\n",
       "25%         3727.00\n",
       "50%         5744.00\n",
       "75%         7856.00\n",
       "max        41551.00\n",
       "Name: Sales, dtype: float64"
      ]
     },
     "execution_count": 15,
     "metadata": {},
     "output_type": "execute_result"
    }
   ],
   "source": [
    "# Descriptive stats\n",
    "round(d['Sales'].describe(), 2)"
   ]
  },
  {
   "cell_type": "markdown",
   "metadata": {},
   "source": [
    "# Feature list "
   ]
  },
  {
   "cell_type": "code",
   "execution_count": 41,
   "metadata": {},
   "outputs": [],
   "source": [
    "features = [\n",
    "    \"Store\",\n",
    "    'DayOfWeek', \n",
    "    'Promotion', \n",
    "    'StateHoliday', \n",
    "    'SchoolHoliday', \n",
    "    'StoreType', \n",
    "    'AssortmentType',\n",
    "    'month_year',\n",
    "    'day_of_month'\n",
    "]"
   ]
  },
  {
   "cell_type": "markdown",
   "metadata": {},
   "source": [
    "# Creating the final X and Y matrices "
   ]
  },
  {
   "cell_type": "code",
   "execution_count": 44,
   "metadata": {},
   "outputs": [],
   "source": [
    "X = pd.get_dummies(d[features])\n",
    "Y = d['Sales']"
   ]
  },
  {
   "cell_type": "code",
   "execution_count": 45,
   "metadata": {},
   "outputs": [
    {
     "name": "stdout",
     "output_type": "stream",
     "text": [
      "Shape of X matrix: (1017209, 1150)\n",
      "Shape of Y matrix: (1017209,)\n"
     ]
    }
   ],
   "source": [
    "print(f\"Shape of X matrix: {X.shape}\")\n",
    "print(f\"Shape of Y matrix: {Y.shape}\")"
   ]
  },
  {
   "cell_type": "markdown",
   "metadata": {},
   "source": [
    "# CPU and GPU speeds vs row count"
   ]
  },
  {
   "cell_type": "code",
   "execution_count": 77,
   "metadata": {},
   "outputs": [
    {
     "ename": "NameError",
     "evalue": "name 'gpu_peeds' is not defined",
     "output_type": "error",
     "traceback": [
      "\u001b[1;31m---------------------------------------------------------------------------\u001b[0m",
      "\u001b[1;31mNameError\u001b[0m                                 Traceback (most recent call last)",
      "\u001b[1;32m<ipython-input-77-8a2986c5c0b5>\u001b[0m in \u001b[0;36m<module>\u001b[1;34m\u001b[0m\n\u001b[0;32m     55\u001b[0m     \u001b[1;34m'nrows'\u001b[0m\u001b[1;33m:\u001b[0m \u001b[0mnrows\u001b[0m\u001b[1;33m,\u001b[0m\u001b[1;33m\u001b[0m\u001b[1;33m\u001b[0m\u001b[0m\n\u001b[0;32m     56\u001b[0m     \u001b[1;34m'cpu_speeds'\u001b[0m\u001b[1;33m:\u001b[0m \u001b[0mcpu_speeds\u001b[0m\u001b[1;33m,\u001b[0m\u001b[1;33m\u001b[0m\u001b[1;33m\u001b[0m\u001b[0m\n\u001b[1;32m---> 57\u001b[1;33m     \u001b[1;34m'gpu_speeds'\u001b[0m\u001b[1;33m:\u001b[0m \u001b[0mgpu_peeds\u001b[0m\u001b[1;33m\u001b[0m\u001b[1;33m\u001b[0m\u001b[0m\n\u001b[0m\u001b[0;32m     58\u001b[0m })\n",
      "\u001b[1;31mNameError\u001b[0m: name 'gpu_peeds' is not defined"
     ]
    }
   ],
   "source": [
    "# Defining the dictionaries\n",
    "cpu_dict = {\n",
    "    'objective': 'reg:squarederror'\n",
    "}\n",
    "\n",
    "gpu_dict = {\n",
    "    'objective': 'reg:squarederror',\n",
    "    'tree_method': 'gpu_hist'\n",
    "}\n",
    "\n",
    "# Number of rows to train on \n",
    "nrows = [\n",
    "    10, \n",
    "    100, \n",
    "    200, \n",
    "    3000, \n",
    "    5000, \n",
    "    10000, \n",
    "    20000, \n",
    "    50000, \n",
    "    100000, \n",
    "    300000\n",
    "]\n",
    "cpu_speeds = []\n",
    "gpu_speeds = []\n",
    "\n",
    "for nrow in nrows: \n",
    "    # Sampling random rows \n",
    "    sample = d.sample(nrow)\n",
    "    \n",
    "    # Creating X and Y \n",
    "    X = pd.get_dummies(sample[features])\n",
    "    Y = sample['Sales']\n",
    "    \n",
    "    # Initiating the model objects\n",
    "    cpu = xgb.XGBRegressor(**cpu_dict)\n",
    "    gpu = xgb.XGBRegressor(**gpu_dict)\n",
    "    \n",
    "    # Training on cpu \n",
    "    start = time.time()\n",
    "    cpu.fit(X, Y)\n",
    "    cpu_speed = time.time() - start\n",
    "    \n",
    "    # Training on gpu\n",
    "    start = time.time()\n",
    "    gpu.fit(X, Y)\n",
    "    gpu_speed = time.time() - start\n",
    "    \n",
    "    # Appending the speed results \n",
    "    cpu_speeds.append(cpu_speed)\n",
    "    gpu_speeds.append(gpu_speed)\n",
    "\n",
    "# Creating a dataframe \n",
    "speeds = pd.DataFrame({\n",
    "    'nrows': nrows,\n",
    "    'cpu_speeds': cpu_speeds,\n",
    "    'gpu_speeds': gpu_speeds\n",
    "})\n",
    "\n",
    "speeds['difference'] = speeds['cpu_speeds'] - speeds['gpu_speeds'] "
   ]
  },
  {
   "cell_type": "code",
   "execution_count": 79,
   "metadata": {},
   "outputs": [],
   "source": [
    "# Creating a dataframe \n",
    "speeds = pd.DataFrame({\n",
    "    'nrows': nrows,\n",
    "    'cpu_speeds': cpu_speeds,\n",
    "    'gpu_speeds': gpu_speeds\n",
    "})\n",
    "\n",
    "speeds['difference'] = speeds['cpu_speeds'] - speeds['gpu_speeds'] "
   ]
  },
  {
   "cell_type": "code",
   "execution_count": 80,
   "metadata": {},
   "outputs": [
    {
     "data": {
      "image/png": "[encoded data removed]",
      "text/plain": [
       "<Figure size 720x720 with 1 Axes>"
      ]
     },
     "metadata": {
      "needs_background": "light"
     },
     "output_type": "display_data"
    }
   ],
   "source": [
    "plt.figure(figsize=(10, 10))\n",
    "plt.plot(nrows, cpu_speeds, '-o', label='cpu', linewidth=2)\n",
    "plt.plot(nrows, gpu_speeds, '-o', label='gpu', linewidth=2)\n",
    "plt.xlabel('Number of observations')\n",
    "plt.ylabel('Training time (seconds)')\n",
    "plt.title('Time comparison')\n",
    "plt.legend()\n",
    "plt.grid()\n",
    "plt.show()"
   ]
  },
  {
   "cell_type": "code",
   "execution_count": 81,
   "metadata": {},
   "outputs": [
    {
     "name": "stderr",
     "output_type": "stream",
     "text": [
      "No handles with labels found to put in legend.\n"
     ]
    },
    {
     "data": {
      "image/png": "[encoded data removed]",
      "text/plain": [
       "<Figure size 720x720 with 1 Axes>"
      ]
     },
     "metadata": {
      "needs_background": "light"
     },
     "output_type": "display_data"
    }
   ],
   "source": [
    "plt.figure(figsize=(10, 10))\n",
    "plt.plot(speeds['nrows'], speeds['difference'], '-o', linewidth=2)\n",
    "plt.xlabel('Number of observations')\n",
    "plt.ylabel('Difference in secods')\n",
    "plt.title('GPU and CPU training time difference')\n",
    "plt.grid()\n",
    "plt.show()"
   ]
  },
  {
   "cell_type": "code",
   "execution_count": 82,
   "metadata": {},
   "outputs": [
    {
     "data": {
      "text/html": [
       "<div>\n",
       "<style scoped>\n",
       "    .dataframe tbody tr th:only-of-type {\n",
       "        vertical-align: middle;\n",
       "    }\n",
       "\n",
       "    .dataframe tbody tr th {\n",
       "        vertical-align: top;\n",
       "    }\n",
       "\n",
       "    .dataframe thead th {\n",
       "        text-align: right;\n",
       "    }\n",
       "</style>\n",
       "<table border=\"1\" class=\"dataframe\">\n",
       "  <thead>\n",
       "    <tr style=\"text-align: right;\">\n",
       "      <th></th>\n",
       "      <th>nrows</th>\n",
       "      <th>cpu_speeds</th>\n",
       "      <th>gpu_speeds</th>\n",
       "      <th>difference</th>\n",
       "    </tr>\n",
       "  </thead>\n",
       "  <tbody>\n",
       "    <tr>\n",
       "      <th>0</th>\n",
       "      <td>10</td>\n",
       "      <td>0.021004</td>\n",
       "      <td>0.163038</td>\n",
       "      <td>-0.142034</td>\n",
       "    </tr>\n",
       "    <tr>\n",
       "      <th>1</th>\n",
       "      <td>100</td>\n",
       "      <td>0.033007</td>\n",
       "      <td>0.198045</td>\n",
       "      <td>-0.165038</td>\n",
       "    </tr>\n",
       "    <tr>\n",
       "      <th>2</th>\n",
       "      <td>200</td>\n",
       "      <td>0.043009</td>\n",
       "      <td>0.227052</td>\n",
       "      <td>-0.184043</td>\n",
       "    </tr>\n",
       "    <tr>\n",
       "      <th>3</th>\n",
       "      <td>3000</td>\n",
       "      <td>0.797758</td>\n",
       "      <td>0.685154</td>\n",
       "      <td>0.112604</td>\n",
       "    </tr>\n",
       "    <tr>\n",
       "      <th>4</th>\n",
       "      <td>5000</td>\n",
       "      <td>1.337326</td>\n",
       "      <td>0.859194</td>\n",
       "      <td>0.478132</td>\n",
       "    </tr>\n",
       "    <tr>\n",
       "      <th>5</th>\n",
       "      <td>10000</td>\n",
       "      <td>2.537925</td>\n",
       "      <td>1.081355</td>\n",
       "      <td>1.456570</td>\n",
       "    </tr>\n",
       "    <tr>\n",
       "      <th>6</th>\n",
       "      <td>20000</td>\n",
       "      <td>4.858685</td>\n",
       "      <td>1.410637</td>\n",
       "      <td>3.448049</td>\n",
       "    </tr>\n",
       "    <tr>\n",
       "      <th>7</th>\n",
       "      <td>50000</td>\n",
       "      <td>11.895265</td>\n",
       "      <td>2.125650</td>\n",
       "      <td>9.769615</td>\n",
       "    </tr>\n",
       "    <tr>\n",
       "      <th>8</th>\n",
       "      <td>100000</td>\n",
       "      <td>23.532217</td>\n",
       "      <td>3.192972</td>\n",
       "      <td>20.339244</td>\n",
       "    </tr>\n",
       "    <tr>\n",
       "      <th>9</th>\n",
       "      <td>300000</td>\n",
       "      <td>72.613338</td>\n",
       "      <td>7.278566</td>\n",
       "      <td>65.334773</td>\n",
       "    </tr>\n",
       "  </tbody>\n",
       "</table>\n",
       "</div>"
      ],
      "text/plain": [
       "    nrows  cpu_speeds  gpu_speeds  difference\n",
       "0      10    0.021004    0.163038   -0.142034\n",
       "1     100    0.033007    0.198045   -0.165038\n",
       "2     200    0.043009    0.227052   -0.184043\n",
       "3    3000    0.797758    0.685154    0.112604\n",
       "4    5000    1.337326    0.859194    0.478132\n",
       "5   10000    2.537925    1.081355    1.456570\n",
       "6   20000    4.858685    1.410637    3.448049\n",
       "7   50000   11.895265    2.125650    9.769615\n",
       "8  100000   23.532217    3.192972   20.339244\n",
       "9  300000   72.613338    7.278566   65.334773"
      ]
     },
     "execution_count": 82,
     "metadata": {},
     "output_type": "execute_result"
    }
   ],
   "source": [
    "speeds"
   ]
  },
  {
   "cell_type": "markdown",
   "metadata": {},
   "source": [
    "# Speed vs hp values"
   ]
  },
  {
   "cell_type": "code",
   "execution_count": 84,
   "metadata": {},
   "outputs": [],
   "source": [
    "# Defining the grid of parameters \n",
    "n_estimators = [100, 200, 300]\n",
    "max_depth = [12, 14, 16]\n",
    "\n",
    "# Number of rows to test on \n",
    "nrows = 100000\n",
    "\n",
    "# Creating a dictionary\n",
    "gpu_dict = {\n",
    "    'objective': ['reg:squarederror'], \n",
    "    'n_estimators': n_estimators,\n",
    "    'max_depth': max_depth,\n",
    "    'tree_method': ['gpu_hist']\n",
    "}\n",
    "\n",
    "cpu_dict = {\n",
    "    'objective': ['reg:squarederror'], \n",
    "    'n_estimators': n_estimators,\n",
    "    'max_depth': max_depth\n",
    "}\n",
    "\n",
    "# Creating the grid of hyper parameters \n",
    "gpu_hp = ParameterGrid(gpu_dict)\n",
    "cpu_hp = ParameterGrid(cpu_dict)"
   ]
  }
 ],
 "metadata": {
  "kernelspec": {
   "display_name": "Python 3",
   "language": "python",
   "name": "python3"
  },
  "language_info": {
   "codemirror_mode": {
    "name": "ipython",
    "version": 3
   },
   "file_extension": ".py",
   "mimetype": "text/x-python",
   "name": "python",
   "nbconvert_exporter": "python",
   "pygments_lexer": "ipython3",
   "version": "3.8.5"
  }
 },
 "nbformat": 4,
 "nbformat_minor": 4
}
