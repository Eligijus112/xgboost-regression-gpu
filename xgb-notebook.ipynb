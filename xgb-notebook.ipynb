{
 "cells": [
  {
   "cell_type": "markdown",
   "metadata": {},
   "source": [
    "# Importing packages "
   ]
  },
  {
   "cell_type": "code",
   "execution_count": 1,
   "metadata": {},
   "outputs": [],
   "source": [
    "# Data wrangling \n",
    "import pandas as pd \n",
    "\n",
    "# Dates\n",
    "from datetime import datetime\n",
    "\n",
    "# Iteration tracking\n",
    "from tqdm import tqdm\n",
    "import time\n",
    "\n",
    "# Array math\n",
    "import numpy as np\n",
    "\n",
    "# Ploting \n",
    "import matplotlib.pyplot as plt\n",
    "\n",
    "# Xgboost models \n",
    "import xgboost as xgb\n",
    "\n",
    "# Grid search for paramters\n",
    "from sklearn.model_selection import ParameterGrid"
   ]
  },
  {
   "cell_type": "markdown",
   "metadata": {},
   "source": [
    "# Reading train data "
   ]
  },
  {
   "cell_type": "code",
   "execution_count": 2,
   "metadata": {},
   "outputs": [],
   "source": [
    "d = pd.read_csv('train_data.csv', low_memory=False)"
   ]
  },
  {
   "cell_type": "code",
   "execution_count": 3,
   "metadata": {},
   "outputs": [
    {
     "data": {
      "text/plain": [
       "Store              int64\n",
       "DayOfWeek          int64\n",
       "Date              object\n",
       "Sales              int64\n",
       "ShopOpen           int64\n",
       "Promotion          int64\n",
       "StateHoliday      object\n",
       "SchoolHoliday      int64\n",
       "StoreType         object\n",
       "AssortmentType    object\n",
       "dtype: object"
      ]
     },
     "execution_count": 3,
     "metadata": {},
     "output_type": "execute_result"
    }
   ],
   "source": [
    "d.dtypes"
   ]
  },
  {
   "cell_type": "code",
   "execution_count": 4,
   "metadata": {},
   "outputs": [
    {
     "name": "stdout",
     "output_type": "stream",
     "text": [
      "Shape of data: (1017209, 10)\n"
     ]
    }
   ],
   "source": [
    "print(f\"Shape of data: {d.shape}\")"
   ]
  },
  {
   "cell_type": "code",
   "execution_count": 5,
   "metadata": {},
   "outputs": [
    {
     "data": {
      "text/html": [
       "<div>\n",
       "<style scoped>\n",
       "    .dataframe tbody tr th:only-of-type {\n",
       "        vertical-align: middle;\n",
       "    }\n",
       "\n",
       "    .dataframe tbody tr th {\n",
       "        vertical-align: top;\n",
       "    }\n",
       "\n",
       "    .dataframe thead th {\n",
       "        text-align: right;\n",
       "    }\n",
       "</style>\n",
       "<table border=\"1\" class=\"dataframe\">\n",
       "  <thead>\n",
       "    <tr style=\"text-align: right;\">\n",
       "      <th></th>\n",
       "      <th>Store</th>\n",
       "      <th>DayOfWeek</th>\n",
       "      <th>Date</th>\n",
       "      <th>Sales</th>\n",
       "      <th>ShopOpen</th>\n",
       "      <th>Promotion</th>\n",
       "      <th>StateHoliday</th>\n",
       "      <th>SchoolHoliday</th>\n",
       "      <th>StoreType</th>\n",
       "      <th>AssortmentType</th>\n",
       "    </tr>\n",
       "  </thead>\n",
       "  <tbody>\n",
       "    <tr>\n",
       "      <th>0</th>\n",
       "      <td>1</td>\n",
       "      <td>5</td>\n",
       "      <td>2015-07-31</td>\n",
       "      <td>5263</td>\n",
       "      <td>1</td>\n",
       "      <td>1</td>\n",
       "      <td>0</td>\n",
       "      <td>1</td>\n",
       "      <td>c</td>\n",
       "      <td>a</td>\n",
       "    </tr>\n",
       "    <tr>\n",
       "      <th>1</th>\n",
       "      <td>2</td>\n",
       "      <td>5</td>\n",
       "      <td>2015-07-31</td>\n",
       "      <td>6064</td>\n",
       "      <td>1</td>\n",
       "      <td>1</td>\n",
       "      <td>0</td>\n",
       "      <td>1</td>\n",
       "      <td>a</td>\n",
       "      <td>a</td>\n",
       "    </tr>\n",
       "    <tr>\n",
       "      <th>2</th>\n",
       "      <td>3</td>\n",
       "      <td>5</td>\n",
       "      <td>2015-07-31</td>\n",
       "      <td>8314</td>\n",
       "      <td>1</td>\n",
       "      <td>1</td>\n",
       "      <td>0</td>\n",
       "      <td>1</td>\n",
       "      <td>a</td>\n",
       "      <td>a</td>\n",
       "    </tr>\n",
       "    <tr>\n",
       "      <th>3</th>\n",
       "      <td>4</td>\n",
       "      <td>5</td>\n",
       "      <td>2015-07-31</td>\n",
       "      <td>13995</td>\n",
       "      <td>1</td>\n",
       "      <td>1</td>\n",
       "      <td>0</td>\n",
       "      <td>1</td>\n",
       "      <td>c</td>\n",
       "      <td>c</td>\n",
       "    </tr>\n",
       "    <tr>\n",
       "      <th>4</th>\n",
       "      <td>5</td>\n",
       "      <td>5</td>\n",
       "      <td>2015-07-31</td>\n",
       "      <td>4822</td>\n",
       "      <td>1</td>\n",
       "      <td>1</td>\n",
       "      <td>0</td>\n",
       "      <td>1</td>\n",
       "      <td>a</td>\n",
       "      <td>a</td>\n",
       "    </tr>\n",
       "    <tr>\n",
       "      <th>5</th>\n",
       "      <td>6</td>\n",
       "      <td>5</td>\n",
       "      <td>2015-07-31</td>\n",
       "      <td>5651</td>\n",
       "      <td>1</td>\n",
       "      <td>1</td>\n",
       "      <td>0</td>\n",
       "      <td>1</td>\n",
       "      <td>a</td>\n",
       "      <td>a</td>\n",
       "    </tr>\n",
       "    <tr>\n",
       "      <th>6</th>\n",
       "      <td>7</td>\n",
       "      <td>5</td>\n",
       "      <td>2015-07-31</td>\n",
       "      <td>15344</td>\n",
       "      <td>1</td>\n",
       "      <td>1</td>\n",
       "      <td>0</td>\n",
       "      <td>1</td>\n",
       "      <td>a</td>\n",
       "      <td>c</td>\n",
       "    </tr>\n",
       "    <tr>\n",
       "      <th>7</th>\n",
       "      <td>8</td>\n",
       "      <td>5</td>\n",
       "      <td>2015-07-31</td>\n",
       "      <td>8492</td>\n",
       "      <td>1</td>\n",
       "      <td>1</td>\n",
       "      <td>0</td>\n",
       "      <td>1</td>\n",
       "      <td>a</td>\n",
       "      <td>a</td>\n",
       "    </tr>\n",
       "    <tr>\n",
       "      <th>8</th>\n",
       "      <td>9</td>\n",
       "      <td>5</td>\n",
       "      <td>2015-07-31</td>\n",
       "      <td>8565</td>\n",
       "      <td>1</td>\n",
       "      <td>1</td>\n",
       "      <td>0</td>\n",
       "      <td>1</td>\n",
       "      <td>a</td>\n",
       "      <td>c</td>\n",
       "    </tr>\n",
       "    <tr>\n",
       "      <th>9</th>\n",
       "      <td>10</td>\n",
       "      <td>5</td>\n",
       "      <td>2015-07-31</td>\n",
       "      <td>7185</td>\n",
       "      <td>1</td>\n",
       "      <td>1</td>\n",
       "      <td>0</td>\n",
       "      <td>1</td>\n",
       "      <td>a</td>\n",
       "      <td>a</td>\n",
       "    </tr>\n",
       "  </tbody>\n",
       "</table>\n",
       "</div>"
      ],
      "text/plain": [
       "   Store  DayOfWeek        Date  Sales  ShopOpen  Promotion StateHoliday  \\\n",
       "0      1          5  2015-07-31   5263         1          1            0   \n",
       "1      2          5  2015-07-31   6064         1          1            0   \n",
       "2      3          5  2015-07-31   8314         1          1            0   \n",
       "3      4          5  2015-07-31  13995         1          1            0   \n",
       "4      5          5  2015-07-31   4822         1          1            0   \n",
       "5      6          5  2015-07-31   5651         1          1            0   \n",
       "6      7          5  2015-07-31  15344         1          1            0   \n",
       "7      8          5  2015-07-31   8492         1          1            0   \n",
       "8      9          5  2015-07-31   8565         1          1            0   \n",
       "9     10          5  2015-07-31   7185         1          1            0   \n",
       "\n",
       "   SchoolHoliday StoreType AssortmentType  \n",
       "0              1         c              a  \n",
       "1              1         a              a  \n",
       "2              1         a              a  \n",
       "3              1         c              c  \n",
       "4              1         a              a  \n",
       "5              1         a              a  \n",
       "6              1         a              c  \n",
       "7              1         a              a  \n",
       "8              1         a              c  \n",
       "9              1         a              a  "
      ]
     },
     "execution_count": 5,
     "metadata": {},
     "output_type": "execute_result"
    }
   ],
   "source": [
    "d.head(10)"
   ]
  },
  {
   "cell_type": "markdown",
   "metadata": {},
   "source": [
    "# Data preprocesing and feature engineering"
   ]
  },
  {
   "cell_type": "code",
   "execution_count": 6,
   "metadata": {},
   "outputs": [],
   "source": [
    "# Converting to categorical all the categorical variables\n",
    "cat_cols = [\n",
    "    'Store', \n",
    "    'DayOfWeek', \n",
    "    'ShopOpen', \n",
    "    'Promotion', \n",
    "    'StateHoliday', \n",
    "    'SchoolHoliday', \n",
    "    'StoreType', \n",
    "    'AssortmentType'\n",
    "]\n",
    "\n",
    "d[cat_cols] = d[cat_cols].astype(str)"
   ]
  },
  {
   "cell_type": "code",
   "execution_count": 7,
   "metadata": {},
   "outputs": [
    {
     "name": "stderr",
     "output_type": "stream",
     "text": [
      "100%|██████████| 1017209/1017209 [00:05<00:00, 193007.08it/s]\n",
      "100%|██████████| 1017209/1017209 [00:00<00:00, 1094704.77it/s]\n"
     ]
    }
   ],
   "source": [
    "# Converting the Date column to datetime object\n",
    "d['Date'] = [datetime.strptime(x, '%Y-%m-%d') for x in tqdm(d['Date'])]\n",
    "\n",
    "# Getting the day of month \n",
    "d['day_of_month'] = [x.day for x in tqdm(d['Date'])]"
   ]
  },
  {
   "cell_type": "markdown",
   "metadata": {},
   "source": [
    "## Adding the month of the year as a feature "
   ]
  },
  {
   "cell_type": "code",
   "execution_count": 8,
   "metadata": {},
   "outputs": [],
   "source": [
    "d['month_year'] = [str(x.month) for x in d['Date']]"
   ]
  },
  {
   "cell_type": "code",
   "execution_count": 9,
   "metadata": {},
   "outputs": [
    {
     "data": {
      "text/html": [
       "<div>\n",
       "<style scoped>\n",
       "    .dataframe tbody tr th:only-of-type {\n",
       "        vertical-align: middle;\n",
       "    }\n",
       "\n",
       "    .dataframe tbody tr th {\n",
       "        vertical-align: top;\n",
       "    }\n",
       "\n",
       "    .dataframe thead th {\n",
       "        text-align: right;\n",
       "    }\n",
       "</style>\n",
       "<table border=\"1\" class=\"dataframe\">\n",
       "  <thead>\n",
       "    <tr style=\"text-align: right;\">\n",
       "      <th></th>\n",
       "      <th>Store</th>\n",
       "      <th>DayOfWeek</th>\n",
       "      <th>Date</th>\n",
       "      <th>Sales</th>\n",
       "      <th>ShopOpen</th>\n",
       "      <th>Promotion</th>\n",
       "      <th>StateHoliday</th>\n",
       "      <th>SchoolHoliday</th>\n",
       "      <th>StoreType</th>\n",
       "      <th>AssortmentType</th>\n",
       "      <th>day_of_month</th>\n",
       "      <th>month_year</th>\n",
       "    </tr>\n",
       "  </thead>\n",
       "  <tbody>\n",
       "    <tr>\n",
       "      <th>460597</th>\n",
       "      <td>888</td>\n",
       "      <td>4</td>\n",
       "      <td>2014-05-15</td>\n",
       "      <td>6615</td>\n",
       "      <td>1</td>\n",
       "      <td>0</td>\n",
       "      <td>0</td>\n",
       "      <td>0</td>\n",
       "      <td>d</td>\n",
       "      <td>a</td>\n",
       "      <td>15</td>\n",
       "      <td>5</td>\n",
       "    </tr>\n",
       "    <tr>\n",
       "      <th>962145</th>\n",
       "      <td>686</td>\n",
       "      <td>2</td>\n",
       "      <td>2013-02-19</td>\n",
       "      <td>6812</td>\n",
       "      <td>1</td>\n",
       "      <td>1</td>\n",
       "      <td>0</td>\n",
       "      <td>0</td>\n",
       "      <td>a</td>\n",
       "      <td>a</td>\n",
       "      <td>19</td>\n",
       "      <td>2</td>\n",
       "    </tr>\n",
       "    <tr>\n",
       "      <th>69841</th>\n",
       "      <td>712</td>\n",
       "      <td>6</td>\n",
       "      <td>2015-05-30</td>\n",
       "      <td>5255</td>\n",
       "      <td>1</td>\n",
       "      <td>0</td>\n",
       "      <td>0</td>\n",
       "      <td>0</td>\n",
       "      <td>a</td>\n",
       "      <td>a</td>\n",
       "      <td>30</td>\n",
       "      <td>5</td>\n",
       "    </tr>\n",
       "    <tr>\n",
       "      <th>66294</th>\n",
       "      <td>510</td>\n",
       "      <td>2</td>\n",
       "      <td>2015-06-02</td>\n",
       "      <td>11783</td>\n",
       "      <td>1</td>\n",
       "      <td>1</td>\n",
       "      <td>0</td>\n",
       "      <td>0</td>\n",
       "      <td>a</td>\n",
       "      <td>c</td>\n",
       "      <td>2</td>\n",
       "      <td>6</td>\n",
       "    </tr>\n",
       "    <tr>\n",
       "      <th>392152</th>\n",
       "      <td>676</td>\n",
       "      <td>5</td>\n",
       "      <td>2014-07-18</td>\n",
       "      <td>8770</td>\n",
       "      <td>1</td>\n",
       "      <td>1</td>\n",
       "      <td>0</td>\n",
       "      <td>0</td>\n",
       "      <td>b</td>\n",
       "      <td>b</td>\n",
       "      <td>18</td>\n",
       "      <td>7</td>\n",
       "    </tr>\n",
       "    <tr>\n",
       "      <th>211179</th>\n",
       "      <td>445</td>\n",
       "      <td>5</td>\n",
       "      <td>2015-01-23</td>\n",
       "      <td>6065</td>\n",
       "      <td>1</td>\n",
       "      <td>0</td>\n",
       "      <td>0</td>\n",
       "      <td>0</td>\n",
       "      <td>a</td>\n",
       "      <td>a</td>\n",
       "      <td>23</td>\n",
       "      <td>1</td>\n",
       "    </tr>\n",
       "    <tr>\n",
       "      <th>892907</th>\n",
       "      <td>578</td>\n",
       "      <td>1</td>\n",
       "      <td>2013-04-22</td>\n",
       "      <td>8664</td>\n",
       "      <td>1</td>\n",
       "      <td>1</td>\n",
       "      <td>0</td>\n",
       "      <td>0</td>\n",
       "      <td>d</td>\n",
       "      <td>a</td>\n",
       "      <td>22</td>\n",
       "      <td>4</td>\n",
       "    </tr>\n",
       "    <tr>\n",
       "      <th>289781</th>\n",
       "      <td>126</td>\n",
       "      <td>2</td>\n",
       "      <td>2014-11-04</td>\n",
       "      <td>7895</td>\n",
       "      <td>1</td>\n",
       "      <td>1</td>\n",
       "      <td>0</td>\n",
       "      <td>0</td>\n",
       "      <td>d</td>\n",
       "      <td>a</td>\n",
       "      <td>4</td>\n",
       "      <td>11</td>\n",
       "    </tr>\n",
       "    <tr>\n",
       "      <th>17783</th>\n",
       "      <td>1059</td>\n",
       "      <td>4</td>\n",
       "      <td>2015-07-16</td>\n",
       "      <td>10045</td>\n",
       "      <td>1</td>\n",
       "      <td>1</td>\n",
       "      <td>0</td>\n",
       "      <td>1</td>\n",
       "      <td>c</td>\n",
       "      <td>a</td>\n",
       "      <td>16</td>\n",
       "      <td>7</td>\n",
       "    </tr>\n",
       "    <tr>\n",
       "      <th>810341</th>\n",
       "      <td>522</td>\n",
       "      <td>5</td>\n",
       "      <td>2013-07-05</td>\n",
       "      <td>8773</td>\n",
       "      <td>1</td>\n",
       "      <td>1</td>\n",
       "      <td>0</td>\n",
       "      <td>0</td>\n",
       "      <td>d</td>\n",
       "      <td>c</td>\n",
       "      <td>5</td>\n",
       "      <td>7</td>\n",
       "    </tr>\n",
       "  </tbody>\n",
       "</table>\n",
       "</div>"
      ],
      "text/plain": [
       "       Store DayOfWeek       Date  Sales ShopOpen Promotion StateHoliday  \\\n",
       "460597   888         4 2014-05-15   6615        1         0            0   \n",
       "962145   686         2 2013-02-19   6812        1         1            0   \n",
       "69841    712         6 2015-05-30   5255        1         0            0   \n",
       "66294    510         2 2015-06-02  11783        1         1            0   \n",
       "392152   676         5 2014-07-18   8770        1         1            0   \n",
       "211179   445         5 2015-01-23   6065        1         0            0   \n",
       "892907   578         1 2013-04-22   8664        1         1            0   \n",
       "289781   126         2 2014-11-04   7895        1         1            0   \n",
       "17783   1059         4 2015-07-16  10045        1         1            0   \n",
       "810341   522         5 2013-07-05   8773        1         1            0   \n",
       "\n",
       "       SchoolHoliday StoreType AssortmentType  day_of_month month_year  \n",
       "460597             0         d              a            15          5  \n",
       "962145             0         a              a            19          2  \n",
       "69841              0         a              a            30          5  \n",
       "66294              0         a              c             2          6  \n",
       "392152             0         b              b            18          7  \n",
       "211179             0         a              a            23          1  \n",
       "892907             0         d              a            22          4  \n",
       "289781             0         d              a             4         11  \n",
       "17783              1         c              a            16          7  \n",
       "810341             0         d              c             5          7  "
      ]
     },
     "execution_count": 9,
     "metadata": {},
     "output_type": "execute_result"
    }
   ],
   "source": [
    "d.sample(10)"
   ]
  },
  {
   "cell_type": "markdown",
   "metadata": {},
   "source": [
    "## Unique categorical value list "
   ]
  },
  {
   "cell_type": "code",
   "execution_count": 10,
   "metadata": {},
   "outputs": [
    {
     "data": {
      "text/plain": [
       "Store             1115\n",
       "DayOfWeek            7\n",
       "ShopOpen             2\n",
       "Promotion            2\n",
       "StateHoliday         4\n",
       "SchoolHoliday        2\n",
       "StoreType            4\n",
       "AssortmentType       3\n",
       "day_of_month        31\n",
       "month_year          12\n",
       "dtype: int64"
      ]
     },
     "execution_count": 10,
     "metadata": {},
     "output_type": "execute_result"
    }
   ],
   "source": [
    "d[cat_cols + ['day_of_month', 'month_year']].nunique()"
   ]
  },
  {
   "cell_type": "markdown",
   "metadata": {},
   "source": [
    "## Distribution of the Y variable "
   ]
  },
  {
   "cell_type": "code",
   "execution_count": 11,
   "metadata": {},
   "outputs": [
    {
     "data": {
      "image/png": "[encoded data removed]",
      "text/plain": [
       "<Figure size 432x288 with 1 Axes>"
      ]
     },
     "metadata": {
      "needs_background": "light"
     },
     "output_type": "display_data"
    }
   ],
   "source": [
    "plt.hist(d['Sales'], edgecolor='black', bins=20)\n",
    "plt.title('Distribution of sales in a given day')\n",
    "plt.show()"
   ]
  },
  {
   "cell_type": "code",
   "execution_count": 12,
   "metadata": {},
   "outputs": [
    {
     "data": {
      "text/plain": [
       "count    1017209.00\n",
       "mean        5773.82\n",
       "std         3849.93\n",
       "min            0.00\n",
       "25%         3727.00\n",
       "50%         5744.00\n",
       "75%         7856.00\n",
       "max        41551.00\n",
       "Name: Sales, dtype: float64"
      ]
     },
     "execution_count": 12,
     "metadata": {},
     "output_type": "execute_result"
    }
   ],
   "source": [
    "# Descriptive stats\n",
    "round(d['Sales'].describe(), 2)"
   ]
  },
  {
   "cell_type": "markdown",
   "metadata": {},
   "source": [
    "# Feature list "
   ]
  },
  {
   "cell_type": "code",
   "execution_count": 13,
   "metadata": {},
   "outputs": [],
   "source": [
    "features = [\n",
    "    \"Store\",\n",
    "    'DayOfWeek', \n",
    "    'Promotion', \n",
    "    'StateHoliday', \n",
    "    'SchoolHoliday', \n",
    "    'StoreType', \n",
    "    'AssortmentType',\n",
    "    'month_year',\n",
    "    'day_of_month'\n",
    "]"
   ]
  },
  {
   "cell_type": "markdown",
   "metadata": {},
   "source": [
    "# Creating the final X and Y matrices "
   ]
  },
  {
   "cell_type": "code",
   "execution_count": 14,
   "metadata": {},
   "outputs": [],
   "source": [
    "X = pd.get_dummies(d[features])\n",
    "Y = d['Sales']"
   ]
  },
  {
   "cell_type": "code",
   "execution_count": 15,
   "metadata": {},
   "outputs": [
    {
     "name": "stdout",
     "output_type": "stream",
     "text": [
      "Shape of X matrix: (1017209, 1150)\n",
      "Shape of Y matrix: (1017209,)\n"
     ]
    }
   ],
   "source": [
    "print(f\"Shape of X matrix: {X.shape}\")\n",
    "print(f\"Shape of Y matrix: {Y.shape}\")"
   ]
  },
  {
   "cell_type": "markdown",
   "metadata": {},
   "source": [
    "# CPU and GPU speeds vs row count"
   ]
  },
  {
   "cell_type": "code",
   "execution_count": 16,
   "metadata": {},
   "outputs": [],
   "source": [
    "# Defining the dictionaries\n",
    "cpu_dict = {\n",
    "    'objective': 'reg:squarederror'\n",
    "}\n",
    "\n",
    "gpu_dict = {\n",
    "    'objective': 'reg:squarederror',\n",
    "    'tree_method': 'gpu_hist'\n",
    "}\n",
    "\n",
    "# Number of rows to train on \n",
    "nrows = [\n",
    "    10, \n",
    "    100, \n",
    "    200, \n",
    "    3000, \n",
    "    5000, \n",
    "    10000, \n",
    "    20000, \n",
    "    50000, \n",
    "    100000, \n",
    "    300000\n",
    "]\n",
    "cpu_speeds = []\n",
    "gpu_speeds = []\n",
    "\n",
    "for nrow in nrows: \n",
    "    # Sampling random rows \n",
    "    sample = d.sample(nrow)\n",
    "    \n",
    "    # Creating X and Y \n",
    "    X = pd.get_dummies(sample[features])\n",
    "    Y = sample['Sales']\n",
    "    \n",
    "    # Initiating the model objects\n",
    "    cpu = xgb.XGBRegressor(**cpu_dict)\n",
    "    gpu = xgb.XGBRegressor(**gpu_dict)\n",
    "    \n",
    "    # Training on cpu \n",
    "    start = time.time()\n",
    "    cpu.fit(X, Y)\n",
    "    cpu_speed = time.time() - start\n",
    "    \n",
    "    # Training on gpu\n",
    "    start = time.time()\n",
    "    gpu.fit(X, Y)\n",
    "    gpu_speed = time.time() - start\n",
    "    \n",
    "    # Appending the speed results \n",
    "    cpu_speeds.append(cpu_speed)\n",
    "    gpu_speeds.append(gpu_speed)\n",
    "\n",
    "# Creating a dataframe \n",
    "speeds = pd.DataFrame({\n",
    "    'nrows': nrows,\n",
    "    'cpu_speeds': cpu_speeds,\n",
    "    'gpu_speeds': gpu_speeds\n",
    "})\n",
    "\n",
    "speeds['difference'] = speeds['cpu_speeds'] - speeds['gpu_speeds'] "
   ]
  },
  {
   "cell_type": "code",
   "execution_count": 17,
   "metadata": {},
   "outputs": [],
   "source": [
    "# Creating a dataframe \n",
    "speeds = pd.DataFrame({\n",
    "    'nrows': nrows,\n",
    "    'cpu_speeds': cpu_speeds,\n",
    "    'gpu_speeds': gpu_speeds\n",
    "})\n",
    "\n",
    "speeds['difference'] = speeds['cpu_speeds'] - speeds['gpu_speeds'] "
   ]
  },
  {
   "cell_type": "code",
   "execution_count": 18,
   "metadata": {},
   "outputs": [
    {
     "data": {
      "image/png": "[encoded data removed]",
      "text/plain": [
       "<Figure size 720x720 with 1 Axes>"
      ]
     },
     "metadata": {
      "needs_background": "light"
     },
     "output_type": "display_data"
    }
   ],
   "source": [
    "plt.figure(figsize=(10, 10))\n",
    "plt.plot(nrows, cpu_speeds, '-o', label='cpu', linewidth=2)\n",
    "plt.plot(nrows, gpu_speeds, '-o', label='gpu', linewidth=2)\n",
    "plt.xlabel('Number of observations')\n",
    "plt.ylabel('Training time (seconds)')\n",
    "plt.title('Time comparison')\n",
    "plt.legend()\n",
    "plt.grid()\n",
    "plt.show()"
   ]
  },
  {
   "cell_type": "code",
   "execution_count": 19,
   "metadata": {},
   "outputs": [
    {
     "data": {
      "image/png": "[encoded data removed]",
      "text/plain": [
       "<Figure size 720x720 with 1 Axes>"
      ]
     },
     "metadata": {
      "needs_background": "light"
     },
     "output_type": "display_data"
    }
   ],
   "source": [
    "plt.figure(figsize=(10, 10))\n",
    "plt.plot(speeds['nrows'], speeds['difference'], '-o', linewidth=2)\n",
    "plt.xlabel('Number of observations')\n",
    "plt.ylabel('Difference in secods')\n",
    "plt.title('GPU and CPU training time difference')\n",
    "plt.grid()\n",
    "plt.show()"
   ]
  },
  {
   "cell_type": "code",
   "execution_count": 20,
   "metadata": {},
   "outputs": [
    {
     "data": {
      "text/html": [
       "<div>\n",
       "<style scoped>\n",
       "    .dataframe tbody tr th:only-of-type {\n",
       "        vertical-align: middle;\n",
       "    }\n",
       "\n",
       "    .dataframe tbody tr th {\n",
       "        vertical-align: top;\n",
       "    }\n",
       "\n",
       "    .dataframe thead th {\n",
       "        text-align: right;\n",
       "    }\n",
       "</style>\n",
       "<table border=\"1\" class=\"dataframe\">\n",
       "  <thead>\n",
       "    <tr style=\"text-align: right;\">\n",
       "      <th></th>\n",
       "      <th>nrows</th>\n",
       "      <th>cpu_speeds</th>\n",
       "      <th>gpu_speeds</th>\n",
       "      <th>difference</th>\n",
       "    </tr>\n",
       "  </thead>\n",
       "  <tbody>\n",
       "    <tr>\n",
       "      <th>0</th>\n",
       "      <td>10</td>\n",
       "      <td>0.058012</td>\n",
       "      <td>0.639144</td>\n",
       "      <td>-0.581132</td>\n",
       "    </tr>\n",
       "    <tr>\n",
       "      <th>1</th>\n",
       "      <td>100</td>\n",
       "      <td>0.035006</td>\n",
       "      <td>0.201051</td>\n",
       "      <td>-0.166045</td>\n",
       "    </tr>\n",
       "    <tr>\n",
       "      <th>2</th>\n",
       "      <td>200</td>\n",
       "      <td>0.046009</td>\n",
       "      <td>0.231053</td>\n",
       "      <td>-0.185045</td>\n",
       "    </tr>\n",
       "    <tr>\n",
       "      <th>3</th>\n",
       "      <td>3000</td>\n",
       "      <td>0.802180</td>\n",
       "      <td>0.667149</td>\n",
       "      <td>0.135030</td>\n",
       "    </tr>\n",
       "    <tr>\n",
       "      <th>4</th>\n",
       "      <td>5000</td>\n",
       "      <td>1.323302</td>\n",
       "      <td>0.823191</td>\n",
       "      <td>0.500111</td>\n",
       "    </tr>\n",
       "    <tr>\n",
       "      <th>5</th>\n",
       "      <td>10000</td>\n",
       "      <td>2.599583</td>\n",
       "      <td>1.078243</td>\n",
       "      <td>1.521340</td>\n",
       "    </tr>\n",
       "    <tr>\n",
       "      <th>6</th>\n",
       "      <td>20000</td>\n",
       "      <td>5.130873</td>\n",
       "      <td>1.464183</td>\n",
       "      <td>3.666691</td>\n",
       "    </tr>\n",
       "    <tr>\n",
       "      <th>7</th>\n",
       "      <td>50000</td>\n",
       "      <td>12.927393</td>\n",
       "      <td>2.245736</td>\n",
       "      <td>10.681657</td>\n",
       "    </tr>\n",
       "    <tr>\n",
       "      <th>8</th>\n",
       "      <td>100000</td>\n",
       "      <td>25.503308</td>\n",
       "      <td>3.354919</td>\n",
       "      <td>22.148389</td>\n",
       "    </tr>\n",
       "    <tr>\n",
       "      <th>9</th>\n",
       "      <td>300000</td>\n",
       "      <td>72.961866</td>\n",
       "      <td>7.213613</td>\n",
       "      <td>65.748253</td>\n",
       "    </tr>\n",
       "  </tbody>\n",
       "</table>\n",
       "</div>"
      ],
      "text/plain": [
       "    nrows  cpu_speeds  gpu_speeds  difference\n",
       "0      10    0.058012    0.639144   -0.581132\n",
       "1     100    0.035006    0.201051   -0.166045\n",
       "2     200    0.046009    0.231053   -0.185045\n",
       "3    3000    0.802180    0.667149    0.135030\n",
       "4    5000    1.323302    0.823191    0.500111\n",
       "5   10000    2.599583    1.078243    1.521340\n",
       "6   20000    5.130873    1.464183    3.666691\n",
       "7   50000   12.927393    2.245736   10.681657\n",
       "8  100000   25.503308    3.354919   22.148389\n",
       "9  300000   72.961866    7.213613   65.748253"
      ]
     },
     "execution_count": 20,
     "metadata": {},
     "output_type": "execute_result"
    }
   ],
   "source": [
    "speeds"
   ]
  },
  {
   "cell_type": "markdown",
   "metadata": {},
   "source": [
    "# Speed vs hp values"
   ]
  },
  {
   "cell_type": "code",
   "execution_count": 124,
   "metadata": {},
   "outputs": [],
   "source": [
    "# Defining the grid of parameters \n",
    "n_estimators = [30, 100, 200, 300, 600, 900]\n",
    "max_depth = [4, 6, 8, 12, 14, 16]\n",
    "\n",
    "# Number of rows to test on \n",
    "nrows = 30000\n",
    "\n",
    "# Creating a dictionary\n",
    "gpu_dict = {\n",
    "    'objective': ['reg:squarederror'], \n",
    "    'n_estimators': n_estimators,\n",
    "    'max_depth': max_depth,\n",
    "    'tree_method': ['gpu_hist']\n",
    "}\n",
    "\n",
    "cpu_dict = {\n",
    "    'objective': ['reg:squarederror'], \n",
    "    'n_estimators': n_estimators,\n",
    "    'max_depth': max_depth\n",
    "}\n",
    "\n",
    "# Creating the grid of hyper parameters \n",
    "gpu_hp = ParameterGrid(gpu_dict)\n",
    "cpu_hp = ParameterGrid(cpu_dict)\n",
    "\n",
    "# Getting the random subset of data \n",
    "subset = d.sample(nrows)"
   ]
  },
  {
   "cell_type": "code",
   "execution_count": 125,
   "metadata": {},
   "outputs": [],
   "source": [
    "# Iterating through all hte hyper parameters: \n",
    "gpu_speeds = []\n",
    "for params in gpu_hp:\n",
    "    # Creating X and Y \n",
    "    X = pd.get_dummies(subset[features])\n",
    "    Y = subset['Sales']\n",
    "    \n",
    "    # Initiating the model objects\n",
    "    gpu = xgb.XGBRegressor(**params)\n",
    "    \n",
    "    # Training on cpu \n",
    "    start = time.time()\n",
    "    gpu.fit(X, Y)\n",
    "    gpu_speed = time.time() - start\n",
    "    \n",
    "    gpu_speeds.append(gpu_speed)"
   ]
  },
  {
   "cell_type": "code",
   "execution_count": 126,
   "metadata": {},
   "outputs": [],
   "source": [
    "# Iterating through all hte hyper parameters: \n",
    "cpu_speeds = []\n",
    "for params in cpu_hp:\n",
    "    # Creating X and Y \n",
    "    X = pd.get_dummies(subset[features])\n",
    "    Y = subset['Sales']\n",
    "    \n",
    "    # Initiating the model objects\n",
    "    cpu = xgb.XGBRegressor(**params)\n",
    "    \n",
    "    # Training on cpu \n",
    "    start = time.time()\n",
    "    cpu.fit(X, Y)\n",
    "    cpu_speed = time.time() - start\n",
    "    \n",
    "    cpu_speeds.append(cpu_speed)"
   ]
  },
  {
   "cell_type": "code",
   "execution_count": 127,
   "metadata": {},
   "outputs": [],
   "source": [
    "# Creating the speed frame \n",
    "speeds = pd.DataFrame({\n",
    "    'n_estimators': [x.get('n_estimators') for x in list(cpu_hp)],\n",
    "    'max_depth': [x.get('max_depth') for x in list(cpu_hp)],\n",
    "    'cpu_speed': cpu_speeds,\n",
    "    'gpu_speed': gpu_speeds\n",
    "})\n",
    "\n",
    "# Diff of speed between GPU and CPU\n",
    "speeds['diff'] = speeds['cpu_speed'] - speeds['gpu_speed']"
   ]
  },
  {
   "cell_type": "code",
   "execution_count": 148,
   "metadata": {},
   "outputs": [
    {
     "data": {
      "text/html": [
       "<div>\n",
       "<style scoped>\n",
       "    .dataframe tbody tr th:only-of-type {\n",
       "        vertical-align: middle;\n",
       "    }\n",
       "\n",
       "    .dataframe tbody tr th {\n",
       "        vertical-align: top;\n",
       "    }\n",
       "\n",
       "    .dataframe thead th {\n",
       "        text-align: right;\n",
       "    }\n",
       "</style>\n",
       "<table border=\"1\" class=\"dataframe\">\n",
       "  <thead>\n",
       "    <tr style=\"text-align: right;\">\n",
       "      <th></th>\n",
       "      <th>n_estimators</th>\n",
       "      <th>max_depth</th>\n",
       "      <th>cpu_speed</th>\n",
       "      <th>gpu_speed</th>\n",
       "      <th>diff</th>\n",
       "    </tr>\n",
       "  </thead>\n",
       "  <tbody>\n",
       "    <tr>\n",
       "      <th>16</th>\n",
       "      <td>600</td>\n",
       "      <td>8</td>\n",
       "      <td>54.034929</td>\n",
       "      <td>15.422919</td>\n",
       "      <td>38.612010</td>\n",
       "    </tr>\n",
       "    <tr>\n",
       "      <th>5</th>\n",
       "      <td>900</td>\n",
       "      <td>4</td>\n",
       "      <td>46.151239</td>\n",
       "      <td>6.878170</td>\n",
       "      <td>39.273069</td>\n",
       "    </tr>\n",
       "    <tr>\n",
       "      <th>22</th>\n",
       "      <td>600</td>\n",
       "      <td>12</td>\n",
       "      <td>77.520987</td>\n",
       "      <td>32.522436</td>\n",
       "      <td>44.998551</td>\n",
       "    </tr>\n",
       "    <tr>\n",
       "      <th>28</th>\n",
       "      <td>600</td>\n",
       "      <td>14</td>\n",
       "      <td>89.254875</td>\n",
       "      <td>43.211544</td>\n",
       "      <td>46.043331</td>\n",
       "    </tr>\n",
       "    <tr>\n",
       "      <th>34</th>\n",
       "      <td>600</td>\n",
       "      <td>16</td>\n",
       "      <td>100.829242</td>\n",
       "      <td>53.805374</td>\n",
       "      <td>47.023869</td>\n",
       "    </tr>\n",
       "    <tr>\n",
       "      <th>11</th>\n",
       "      <td>900</td>\n",
       "      <td>6</td>\n",
       "      <td>63.503949</td>\n",
       "      <td>13.482705</td>\n",
       "      <td>50.021244</td>\n",
       "    </tr>\n",
       "    <tr>\n",
       "      <th>17</th>\n",
       "      <td>900</td>\n",
       "      <td>8</td>\n",
       "      <td>80.873741</td>\n",
       "      <td>24.142909</td>\n",
       "      <td>56.730832</td>\n",
       "    </tr>\n",
       "    <tr>\n",
       "      <th>23</th>\n",
       "      <td>900</td>\n",
       "      <td>12</td>\n",
       "      <td>116.523931</td>\n",
       "      <td>51.444740</td>\n",
       "      <td>65.079191</td>\n",
       "    </tr>\n",
       "    <tr>\n",
       "      <th>29</th>\n",
       "      <td>900</td>\n",
       "      <td>14</td>\n",
       "      <td>133.788477</td>\n",
       "      <td>68.634349</td>\n",
       "      <td>65.154128</td>\n",
       "    </tr>\n",
       "    <tr>\n",
       "      <th>35</th>\n",
       "      <td>900</td>\n",
       "      <td>16</td>\n",
       "      <td>151.523745</td>\n",
       "      <td>86.301038</td>\n",
       "      <td>65.222707</td>\n",
       "    </tr>\n",
       "  </tbody>\n",
       "</table>\n",
       "</div>"
      ],
      "text/plain": [
       "    n_estimators  max_depth   cpu_speed  gpu_speed       diff\n",
       "16           600          8   54.034929  15.422919  38.612010\n",
       "5            900          4   46.151239   6.878170  39.273069\n",
       "22           600         12   77.520987  32.522436  44.998551\n",
       "28           600         14   89.254875  43.211544  46.043331\n",
       "34           600         16  100.829242  53.805374  47.023869\n",
       "11           900          6   63.503949  13.482705  50.021244\n",
       "17           900          8   80.873741  24.142909  56.730832\n",
       "23           900         12  116.523931  51.444740  65.079191\n",
       "29           900         14  133.788477  68.634349  65.154128\n",
       "35           900         16  151.523745  86.301038  65.222707"
      ]
     },
     "execution_count": 148,
     "metadata": {},
     "output_type": "execute_result"
    }
   ],
   "source": [
    "speeds.sort_values('diff').tail(10)"
   ]
  },
  {
   "cell_type": "markdown",
   "metadata": {},
   "source": [
    "## Aproximating the difference in speeds based on hp"
   ]
  },
  {
   "cell_type": "code",
   "execution_count": 129,
   "metadata": {},
   "outputs": [],
   "source": [
    "X, Y = np.meshgrid(n_estimators, max_depth)"
   ]
  },
  {
   "cell_type": "code",
   "execution_count": 130,
   "metadata": {},
   "outputs": [],
   "source": [
    "Z = speeds['diff'].values\n",
    "Z = np.array(Z).reshape((len(n_estimators), len(max_depth)))"
   ]
  },
  {
   "cell_type": "code",
   "execution_count": 146,
   "metadata": {},
   "outputs": [
    {
     "data": {
      "image/png": "[encoded data removed]",
      "text/plain": [
       "<Figure size 864x864 with 1 Axes>"
      ]
     },
     "metadata": {
      "needs_background": "light"
     },
     "output_type": "display_data"
    }
   ],
   "source": [
    "fig = plt.figure(figsize=(12, 12))\n",
    "ax = plt.axes(projection='3d')\n",
    "#ax.view_init(45, 45)\n",
    "ax.plot_surface(X, Y, Z, rstride=1, cstride=1, edgecolor='none', alpha=0.7)\n",
    "ax.set_xlabel('n_estimators')\n",
    "ax.set_ylabel('max_depth')\n",
    "ax.set_zlabel('GPU speed advantage (s)')\n",
    "plt.show()"
   ]
  },
  {
   "cell_type": "code",
   "execution_count": null,
   "metadata": {},
   "outputs": [],
   "source": []
  }
 ],
 "metadata": {
  "kernelspec": {
   "display_name": "Python 3",
   "language": "python",
   "name": "python3"
  },
  "language_info": {
   "codemirror_mode": {
    "name": "ipython",
    "version": 3
   },
   "file_extension": ".py",
   "mimetype": "text/x-python",
   "name": "python",
   "nbconvert_exporter": "python",
   "pygments_lexer": "ipython3",
   "version": "3.8.5"
  }
 },
 "nbformat": 4,
 "nbformat_minor": 4
}
