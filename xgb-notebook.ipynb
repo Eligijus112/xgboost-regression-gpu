{
 "cells": [
  {
   "cell_type": "markdown",
   "metadata": {},
   "source": [
    "# Importing packages "
   ]
  },
  {
   "cell_type": "code",
   "execution_count": 1,
   "metadata": {},
   "outputs": [],
   "source": [
    "# Data wrangling \n",
    "import pandas as pd \n",
    "\n",
    "# Dates\n",
    "from datetime import datetime\n",
    "\n",
    "# Iteration tracking\n",
    "from tqdm import tqdm\n",
    "import time\n",
    "\n",
    "# Array math\n",
    "import numpy as np\n",
    "\n",
    "# Ploting \n",
    "import matplotlib.pyplot as plt\n",
    "\n",
    "# Xgboost models \n",
    "import xgboost as xgb\n",
    "\n",
    "# Grid search for paramters\n",
    "from sklearn.model_selection import ParameterGrid"
   ]
  },
  {
   "cell_type": "markdown",
   "metadata": {},
   "source": [
    "# Reading train data "
   ]
  },
  {
   "cell_type": "code",
   "execution_count": 2,
   "metadata": {},
   "outputs": [],
   "source": [
    "d = pd.read_csv('train_data.csv', low_memory=False)"
   ]
  },
  {
   "cell_type": "code",
   "execution_count": 3,
   "metadata": {},
   "outputs": [
    {
     "data": {
      "text/plain": [
       "Store              int64\n",
       "DayOfWeek          int64\n",
       "Date              object\n",
       "Sales              int64\n",
       "ShopOpen           int64\n",
       "Promotion          int64\n",
       "StateHoliday      object\n",
       "SchoolHoliday      int64\n",
       "StoreType         object\n",
       "AssortmentType    object\n",
       "dtype: object"
      ]
     },
     "execution_count": 3,
     "metadata": {},
     "output_type": "execute_result"
    }
   ],
   "source": [
    "d.dtypes"
   ]
  },
  {
   "cell_type": "code",
   "execution_count": 4,
   "metadata": {},
   "outputs": [
    {
     "name": "stdout",
     "output_type": "stream",
     "text": [
      "Shape of data: (1017209, 10)\n"
     ]
    }
   ],
   "source": [
    "print(f\"Shape of data: {d.shape}\")"
   ]
  },
  {
   "cell_type": "code",
   "execution_count": 5,
   "metadata": {},
   "outputs": [
    {
     "data": {
      "text/html": [
       "<div>\n",
       "<style scoped>\n",
       "    .dataframe tbody tr th:only-of-type {\n",
       "        vertical-align: middle;\n",
       "    }\n",
       "\n",
       "    .dataframe tbody tr th {\n",
       "        vertical-align: top;\n",
       "    }\n",
       "\n",
       "    .dataframe thead th {\n",
       "        text-align: right;\n",
       "    }\n",
       "</style>\n",
       "<table border=\"1\" class=\"dataframe\">\n",
       "  <thead>\n",
       "    <tr style=\"text-align: right;\">\n",
       "      <th></th>\n",
       "      <th>Store</th>\n",
       "      <th>DayOfWeek</th>\n",
       "      <th>Date</th>\n",
       "      <th>Sales</th>\n",
       "      <th>ShopOpen</th>\n",
       "      <th>Promotion</th>\n",
       "      <th>StateHoliday</th>\n",
       "      <th>SchoolHoliday</th>\n",
       "      <th>StoreType</th>\n",
       "      <th>AssortmentType</th>\n",
       "    </tr>\n",
       "  </thead>\n",
       "  <tbody>\n",
       "    <tr>\n",
       "      <th>0</th>\n",
       "      <td>1</td>\n",
       "      <td>5</td>\n",
       "      <td>2015-07-31</td>\n",
       "      <td>5263</td>\n",
       "      <td>1</td>\n",
       "      <td>1</td>\n",
       "      <td>0</td>\n",
       "      <td>1</td>\n",
       "      <td>c</td>\n",
       "      <td>a</td>\n",
       "    </tr>\n",
       "    <tr>\n",
       "      <th>1</th>\n",
       "      <td>2</td>\n",
       "      <td>5</td>\n",
       "      <td>2015-07-31</td>\n",
       "      <td>6064</td>\n",
       "      <td>1</td>\n",
       "      <td>1</td>\n",
       "      <td>0</td>\n",
       "      <td>1</td>\n",
       "      <td>a</td>\n",
       "      <td>a</td>\n",
       "    </tr>\n",
       "    <tr>\n",
       "      <th>2</th>\n",
       "      <td>3</td>\n",
       "      <td>5</td>\n",
       "      <td>2015-07-31</td>\n",
       "      <td>8314</td>\n",
       "      <td>1</td>\n",
       "      <td>1</td>\n",
       "      <td>0</td>\n",
       "      <td>1</td>\n",
       "      <td>a</td>\n",
       "      <td>a</td>\n",
       "    </tr>\n",
       "    <tr>\n",
       "      <th>3</th>\n",
       "      <td>4</td>\n",
       "      <td>5</td>\n",
       "      <td>2015-07-31</td>\n",
       "      <td>13995</td>\n",
       "      <td>1</td>\n",
       "      <td>1</td>\n",
       "      <td>0</td>\n",
       "      <td>1</td>\n",
       "      <td>c</td>\n",
       "      <td>c</td>\n",
       "    </tr>\n",
       "    <tr>\n",
       "      <th>4</th>\n",
       "      <td>5</td>\n",
       "      <td>5</td>\n",
       "      <td>2015-07-31</td>\n",
       "      <td>4822</td>\n",
       "      <td>1</td>\n",
       "      <td>1</td>\n",
       "      <td>0</td>\n",
       "      <td>1</td>\n",
       "      <td>a</td>\n",
       "      <td>a</td>\n",
       "    </tr>\n",
       "    <tr>\n",
       "      <th>5</th>\n",
       "      <td>6</td>\n",
       "      <td>5</td>\n",
       "      <td>2015-07-31</td>\n",
       "      <td>5651</td>\n",
       "      <td>1</td>\n",
       "      <td>1</td>\n",
       "      <td>0</td>\n",
       "      <td>1</td>\n",
       "      <td>a</td>\n",
       "      <td>a</td>\n",
       "    </tr>\n",
       "    <tr>\n",
       "      <th>6</th>\n",
       "      <td>7</td>\n",
       "      <td>5</td>\n",
       "      <td>2015-07-31</td>\n",
       "      <td>15344</td>\n",
       "      <td>1</td>\n",
       "      <td>1</td>\n",
       "      <td>0</td>\n",
       "      <td>1</td>\n",
       "      <td>a</td>\n",
       "      <td>c</td>\n",
       "    </tr>\n",
       "    <tr>\n",
       "      <th>7</th>\n",
       "      <td>8</td>\n",
       "      <td>5</td>\n",
       "      <td>2015-07-31</td>\n",
       "      <td>8492</td>\n",
       "      <td>1</td>\n",
       "      <td>1</td>\n",
       "      <td>0</td>\n",
       "      <td>1</td>\n",
       "      <td>a</td>\n",
       "      <td>a</td>\n",
       "    </tr>\n",
       "    <tr>\n",
       "      <th>8</th>\n",
       "      <td>9</td>\n",
       "      <td>5</td>\n",
       "      <td>2015-07-31</td>\n",
       "      <td>8565</td>\n",
       "      <td>1</td>\n",
       "      <td>1</td>\n",
       "      <td>0</td>\n",
       "      <td>1</td>\n",
       "      <td>a</td>\n",
       "      <td>c</td>\n",
       "    </tr>\n",
       "    <tr>\n",
       "      <th>9</th>\n",
       "      <td>10</td>\n",
       "      <td>5</td>\n",
       "      <td>2015-07-31</td>\n",
       "      <td>7185</td>\n",
       "      <td>1</td>\n",
       "      <td>1</td>\n",
       "      <td>0</td>\n",
       "      <td>1</td>\n",
       "      <td>a</td>\n",
       "      <td>a</td>\n",
       "    </tr>\n",
       "  </tbody>\n",
       "</table>\n",
       "</div>"
      ],
      "text/plain": [
       "   Store  DayOfWeek        Date  Sales  ShopOpen  Promotion StateHoliday  \\\n",
       "0      1          5  2015-07-31   5263         1          1            0   \n",
       "1      2          5  2015-07-31   6064         1          1            0   \n",
       "2      3          5  2015-07-31   8314         1          1            0   \n",
       "3      4          5  2015-07-31  13995         1          1            0   \n",
       "4      5          5  2015-07-31   4822         1          1            0   \n",
       "5      6          5  2015-07-31   5651         1          1            0   \n",
       "6      7          5  2015-07-31  15344         1          1            0   \n",
       "7      8          5  2015-07-31   8492         1          1            0   \n",
       "8      9          5  2015-07-31   8565         1          1            0   \n",
       "9     10          5  2015-07-31   7185         1          1            0   \n",
       "\n",
       "   SchoolHoliday StoreType AssortmentType  \n",
       "0              1         c              a  \n",
       "1              1         a              a  \n",
       "2              1         a              a  \n",
       "3              1         c              c  \n",
       "4              1         a              a  \n",
       "5              1         a              a  \n",
       "6              1         a              c  \n",
       "7              1         a              a  \n",
       "8              1         a              c  \n",
       "9              1         a              a  "
      ]
     },
     "execution_count": 5,
     "metadata": {},
     "output_type": "execute_result"
    }
   ],
   "source": [
    "d.head(10)"
   ]
  },
  {
   "cell_type": "markdown",
   "metadata": {},
   "source": [
    "# Data preprocesing and feature engineering"
   ]
  },
  {
   "cell_type": "code",
   "execution_count": 6,
   "metadata": {},
   "outputs": [],
   "source": [
    "# Converting to categorical all the categorical variables\n",
    "cat_cols = [\n",
    "    'Store', \n",
    "    'DayOfWeek', \n",
    "    'ShopOpen', \n",
    "    'Promotion', \n",
    "    'StateHoliday', \n",
    "    'SchoolHoliday', \n",
    "    'StoreType', \n",
    "    'AssortmentType'\n",
    "]\n",
    "\n",
    "d[cat_cols] = d[cat_cols].astype(str)"
   ]
  },
  {
   "cell_type": "code",
   "execution_count": 7,
   "metadata": {},
   "outputs": [
    {
     "name": "stderr",
     "output_type": "stream",
     "text": [
      "100%|████████████████████████████████████████████████████████████████████████████████████████████████████████████████████████████████████| 1017209/1017209 [00:06<00:00, 149199.61it/s]\n",
      "100%|████████████████████████████████████████████████████████████████████████████████████████████████████████████████████████████████████| 1017209/1017209 [00:01<00:00, 856509.52it/s]\n"
     ]
    }
   ],
   "source": [
    "# Converting the Date column to datetime object\n",
    "d['Date'] = [datetime.strptime(x, '%Y-%m-%d') for x in tqdm(d['Date'])]\n",
    "\n",
    "# Getting the day of month \n",
    "d['day_of_month'] = [x.day for x in tqdm(d['Date'])]"
   ]
  },
  {
   "cell_type": "markdown",
   "metadata": {},
   "source": [
    "## Adding the month of the year as a feature "
   ]
  },
  {
   "cell_type": "code",
   "execution_count": 8,
   "metadata": {},
   "outputs": [],
   "source": [
    "d['month_year'] = [str(x.month) for x in d['Date']]"
   ]
  },
  {
   "cell_type": "code",
   "execution_count": 9,
   "metadata": {},
   "outputs": [
    {
     "data": {
      "text/html": [
       "<div>\n",
       "<style scoped>\n",
       "    .dataframe tbody tr th:only-of-type {\n",
       "        vertical-align: middle;\n",
       "    }\n",
       "\n",
       "    .dataframe tbody tr th {\n",
       "        vertical-align: top;\n",
       "    }\n",
       "\n",
       "    .dataframe thead th {\n",
       "        text-align: right;\n",
       "    }\n",
       "</style>\n",
       "<table border=\"1\" class=\"dataframe\">\n",
       "  <thead>\n",
       "    <tr style=\"text-align: right;\">\n",
       "      <th></th>\n",
       "      <th>Store</th>\n",
       "      <th>DayOfWeek</th>\n",
       "      <th>Date</th>\n",
       "      <th>Sales</th>\n",
       "      <th>ShopOpen</th>\n",
       "      <th>Promotion</th>\n",
       "      <th>StateHoliday</th>\n",
       "      <th>SchoolHoliday</th>\n",
       "      <th>StoreType</th>\n",
       "      <th>AssortmentType</th>\n",
       "      <th>day_of_month</th>\n",
       "      <th>month_year</th>\n",
       "    </tr>\n",
       "  </thead>\n",
       "  <tbody>\n",
       "    <tr>\n",
       "      <th>620815</th>\n",
       "      <td>546</td>\n",
       "      <td>7</td>\n",
       "      <td>2013-12-22</td>\n",
       "      <td>0</td>\n",
       "      <td>0</td>\n",
       "      <td>0</td>\n",
       "      <td>0</td>\n",
       "      <td>0</td>\n",
       "      <td>a</td>\n",
       "      <td>a</td>\n",
       "      <td>22</td>\n",
       "      <td>12</td>\n",
       "    </tr>\n",
       "    <tr>\n",
       "      <th>177285</th>\n",
       "      <td>1</td>\n",
       "      <td>7</td>\n",
       "      <td>2015-02-22</td>\n",
       "      <td>0</td>\n",
       "      <td>0</td>\n",
       "      <td>0</td>\n",
       "      <td>0</td>\n",
       "      <td>0</td>\n",
       "      <td>c</td>\n",
       "      <td>a</td>\n",
       "      <td>22</td>\n",
       "      <td>2</td>\n",
       "    </tr>\n",
       "    <tr>\n",
       "      <th>259271</th>\n",
       "      <td>538</td>\n",
       "      <td>7</td>\n",
       "      <td>2014-12-07</td>\n",
       "      <td>0</td>\n",
       "      <td>0</td>\n",
       "      <td>0</td>\n",
       "      <td>0</td>\n",
       "      <td>0</td>\n",
       "      <td>a</td>\n",
       "      <td>a</td>\n",
       "      <td>7</td>\n",
       "      <td>12</td>\n",
       "    </tr>\n",
       "    <tr>\n",
       "      <th>412356</th>\n",
       "      <td>592</td>\n",
       "      <td>5</td>\n",
       "      <td>2014-06-27</td>\n",
       "      <td>3888</td>\n",
       "      <td>1</td>\n",
       "      <td>0</td>\n",
       "      <td>0</td>\n",
       "      <td>0</td>\n",
       "      <td>a</td>\n",
       "      <td>a</td>\n",
       "      <td>27</td>\n",
       "      <td>6</td>\n",
       "    </tr>\n",
       "    <tr>\n",
       "      <th>875353</th>\n",
       "      <td>864</td>\n",
       "      <td>3</td>\n",
       "      <td>2013-05-08</td>\n",
       "      <td>4556</td>\n",
       "      <td>1</td>\n",
       "      <td>0</td>\n",
       "      <td>0</td>\n",
       "      <td>0</td>\n",
       "      <td>a</td>\n",
       "      <td>a</td>\n",
       "      <td>8</td>\n",
       "      <td>5</td>\n",
       "    </tr>\n",
       "    <tr>\n",
       "      <th>406244</th>\n",
       "      <td>758</td>\n",
       "      <td>4</td>\n",
       "      <td>2014-07-03</td>\n",
       "      <td>5310</td>\n",
       "      <td>1</td>\n",
       "      <td>1</td>\n",
       "      <td>0</td>\n",
       "      <td>0</td>\n",
       "      <td>a</td>\n",
       "      <td>c</td>\n",
       "      <td>3</td>\n",
       "      <td>7</td>\n",
       "    </tr>\n",
       "    <tr>\n",
       "      <th>665771</th>\n",
       "      <td>902</td>\n",
       "      <td>2</td>\n",
       "      <td>2013-11-12</td>\n",
       "      <td>4385</td>\n",
       "      <td>1</td>\n",
       "      <td>0</td>\n",
       "      <td>0</td>\n",
       "      <td>0</td>\n",
       "      <td>a</td>\n",
       "      <td>a</td>\n",
       "      <td>12</td>\n",
       "      <td>11</td>\n",
       "    </tr>\n",
       "    <tr>\n",
       "      <th>34107</th>\n",
       "      <td>658</td>\n",
       "      <td>3</td>\n",
       "      <td>2015-07-01</td>\n",
       "      <td>6064</td>\n",
       "      <td>1</td>\n",
       "      <td>1</td>\n",
       "      <td>0</td>\n",
       "      <td>1</td>\n",
       "      <td>d</td>\n",
       "      <td>c</td>\n",
       "      <td>1</td>\n",
       "      <td>7</td>\n",
       "    </tr>\n",
       "    <tr>\n",
       "      <th>500202</th>\n",
       "      <td>353</td>\n",
       "      <td>3</td>\n",
       "      <td>2014-04-09</td>\n",
       "      <td>5576</td>\n",
       "      <td>1</td>\n",
       "      <td>0</td>\n",
       "      <td>0</td>\n",
       "      <td>0</td>\n",
       "      <td>b</td>\n",
       "      <td>b</td>\n",
       "      <td>9</td>\n",
       "      <td>4</td>\n",
       "    </tr>\n",
       "    <tr>\n",
       "      <th>560026</th>\n",
       "      <td>1082</td>\n",
       "      <td>6</td>\n",
       "      <td>2014-02-15</td>\n",
       "      <td>5610</td>\n",
       "      <td>1</td>\n",
       "      <td>0</td>\n",
       "      <td>0</td>\n",
       "      <td>0</td>\n",
       "      <td>c</td>\n",
       "      <td>a</td>\n",
       "      <td>15</td>\n",
       "      <td>2</td>\n",
       "    </tr>\n",
       "  </tbody>\n",
       "</table>\n",
       "</div>"
      ],
      "text/plain": [
       "       Store DayOfWeek       Date  Sales ShopOpen Promotion StateHoliday  \\\n",
       "620815   546         7 2013-12-22      0        0         0            0   \n",
       "177285     1         7 2015-02-22      0        0         0            0   \n",
       "259271   538         7 2014-12-07      0        0         0            0   \n",
       "412356   592         5 2014-06-27   3888        1         0            0   \n",
       "875353   864         3 2013-05-08   4556        1         0            0   \n",
       "406244   758         4 2014-07-03   5310        1         1            0   \n",
       "665771   902         2 2013-11-12   4385        1         0            0   \n",
       "34107    658         3 2015-07-01   6064        1         1            0   \n",
       "500202   353         3 2014-04-09   5576        1         0            0   \n",
       "560026  1082         6 2014-02-15   5610        1         0            0   \n",
       "\n",
       "       SchoolHoliday StoreType AssortmentType  day_of_month month_year  \n",
       "620815             0         a              a            22         12  \n",
       "177285             0         c              a            22          2  \n",
       "259271             0         a              a             7         12  \n",
       "412356             0         a              a            27          6  \n",
       "875353             0         a              a             8          5  \n",
       "406244             0         a              c             3          7  \n",
       "665771             0         a              a            12         11  \n",
       "34107              1         d              c             1          7  \n",
       "500202             0         b              b             9          4  \n",
       "560026             0         c              a            15          2  "
      ]
     },
     "execution_count": 9,
     "metadata": {},
     "output_type": "execute_result"
    }
   ],
   "source": [
    "d.sample(10)"
   ]
  },
  {
   "cell_type": "markdown",
   "metadata": {},
   "source": [
    "## Unique categorical value list "
   ]
  },
  {
   "cell_type": "code",
   "execution_count": 10,
   "metadata": {},
   "outputs": [
    {
     "data": {
      "text/plain": [
       "Store             1115\n",
       "DayOfWeek            7\n",
       "ShopOpen             2\n",
       "Promotion            2\n",
       "StateHoliday         4\n",
       "SchoolHoliday        2\n",
       "StoreType            4\n",
       "AssortmentType       3\n",
       "day_of_month        31\n",
       "month_year          12\n",
       "dtype: int64"
      ]
     },
     "execution_count": 10,
     "metadata": {},
     "output_type": "execute_result"
    }
   ],
   "source": [
    "d[cat_cols + ['day_of_month', 'month_year']].nunique()"
   ]
  },
  {
   "cell_type": "markdown",
   "metadata": {},
   "source": [
    "## Distribution of the Y variable "
   ]
  },
  {
   "cell_type": "code",
   "execution_count": 11,
   "metadata": {},
   "outputs": [
    {
     "data": {
      "image/png": "[encoded data removed]",
      "text/plain": [
       "<Figure size 432x288 with 1 Axes>"
      ]
     },
     "metadata": {
      "needs_background": "light"
     },
     "output_type": "display_data"
    }
   ],
   "source": [
    "plt.hist(d['Sales'], edgecolor='black', bins=20)\n",
    "plt.title('Distribution of sales in a given day')\n",
    "plt.show()"
   ]
  },
  {
   "cell_type": "code",
   "execution_count": 12,
   "metadata": {},
   "outputs": [
    {
     "data": {
      "text/plain": [
       "count    1017209.00\n",
       "mean        5773.82\n",
       "std         3849.93\n",
       "min            0.00\n",
       "25%         3727.00\n",
       "50%         5744.00\n",
       "75%         7856.00\n",
       "max        41551.00\n",
       "Name: Sales, dtype: float64"
      ]
     },
     "execution_count": 12,
     "metadata": {},
     "output_type": "execute_result"
    }
   ],
   "source": [
    "# Descriptive stats\n",
    "round(d['Sales'].describe(), 2)"
   ]
  },
  {
   "cell_type": "markdown",
   "metadata": {},
   "source": [
    "# Feature list "
   ]
  },
  {
   "cell_type": "code",
   "execution_count": 13,
   "metadata": {},
   "outputs": [],
   "source": [
    "features = [\n",
    "    \"Store\",\n",
    "    'DayOfWeek', \n",
    "    'Promotion', \n",
    "    'StateHoliday', \n",
    "    'SchoolHoliday', \n",
    "    'StoreType', \n",
    "    'AssortmentType',\n",
    "    'month_year',\n",
    "    'day_of_month'\n",
    "]"
   ]
  },
  {
   "cell_type": "markdown",
   "metadata": {},
   "source": [
    "# Creating the final X and Y matrices "
   ]
  },
  {
   "cell_type": "code",
   "execution_count": 14,
   "metadata": {},
   "outputs": [],
   "source": [
    "X = pd.get_dummies(d[features])\n",
    "Y = d['Sales']"
   ]
  },
  {
   "cell_type": "code",
   "execution_count": 15,
   "metadata": {},
   "outputs": [
    {
     "name": "stdout",
     "output_type": "stream",
     "text": [
      "Shape of X matrix: (1017209, 1150)\n",
      "Shape of Y matrix: (1017209,)\n"
     ]
    }
   ],
   "source": [
    "print(f\"Shape of X matrix: {X.shape}\")\n",
    "print(f\"Shape of Y matrix: {Y.shape}\")"
   ]
  },
  {
   "cell_type": "markdown",
   "metadata": {},
   "source": [
    "# CPU and GPU speeds vs row count"
   ]
  },
  {
   "cell_type": "code",
   "execution_count": 16,
   "metadata": {},
   "outputs": [
    {
     "name": "stderr",
     "output_type": "stream",
     "text": [
      "100%|██████████████████████████████████████████████████████████████████████████████████████████████████████████████████████████████████████████████████| 10/10 [01:13<00:00,  7.37s/it]\n"
     ]
    }
   ],
   "source": [
    "# Defining the dictionaries\n",
    "cpu_dict = {\n",
    "    'objective': 'reg:squarederror'\n",
    "}\n",
    "\n",
    "gpu_dict = {\n",
    "    'objective': 'reg:squarederror',\n",
    "    'tree_method': 'gpu_hist'\n",
    "}\n",
    "\n",
    "# Number of rows to train on \n",
    "nrows = [\n",
    "    10, \n",
    "    100, \n",
    "    200, \n",
    "    3000, \n",
    "    5000, \n",
    "    10000, \n",
    "    20000, \n",
    "    50000, \n",
    "    100000, \n",
    "    300000\n",
    "]\n",
    "cpu_speeds = []\n",
    "gpu_speeds = []\n",
    "\n",
    "for nrow in tqdm(nrows): \n",
    "    # Sampling random rows \n",
    "    sample = d.sample(nrow)\n",
    "    \n",
    "    # Creating X and Y \n",
    "    X = pd.get_dummies(sample[features])\n",
    "    Y = sample['Sales']\n",
    "    \n",
    "    # Initiating the model objects\n",
    "    cpu = xgb.XGBRegressor(**cpu_dict)\n",
    "    gpu = xgb.XGBRegressor(**gpu_dict)\n",
    "    \n",
    "    # Training on cpu \n",
    "    start = time.time()\n",
    "    cpu.fit(X, Y)\n",
    "    cpu_speed = time.time() - start\n",
    "    \n",
    "    # Training on gpu\n",
    "    start = time.time()\n",
    "    gpu.fit(X, Y)\n",
    "    gpu_speed = time.time() - start\n",
    "    \n",
    "    # Appending the speed results \n",
    "    cpu_speeds.append(cpu_speed)\n",
    "    gpu_speeds.append(gpu_speed)\n",
    "\n",
    "# Creating a dataframe \n",
    "speeds = pd.DataFrame({\n",
    "    'nrows': nrows,\n",
    "    'cpu_speeds': cpu_speeds,\n",
    "    'gpu_speeds': gpu_speeds\n",
    "})\n",
    "\n",
    "speeds['difference'] = speeds['cpu_speeds'] - speeds['gpu_speeds'] "
   ]
  },
  {
   "cell_type": "code",
   "execution_count": 17,
   "metadata": {},
   "outputs": [],
   "source": [
    "# Creating a dataframe \n",
    "speeds = pd.DataFrame({\n",
    "    'nrows': nrows,\n",
    "    'cpu_speeds': cpu_speeds,\n",
    "    'gpu_speeds': gpu_speeds\n",
    "})\n",
    "\n",
    "speeds['difference'] = speeds['cpu_speeds'] - speeds['gpu_speeds'] "
   ]
  },
  {
   "cell_type": "code",
   "execution_count": 18,
   "metadata": {},
   "outputs": [
    {
     "data": {
      "image/png": "[encoded data removed]",
      "text/plain": [
       "<Figure size 720x720 with 1 Axes>"
      ]
     },
     "metadata": {
      "needs_background": "light"
     },
     "output_type": "display_data"
    }
   ],
   "source": [
    "plt.figure(figsize=(10, 10))\n",
    "plt.plot(nrows, cpu_speeds, '-o', label='cpu', linewidth=2)\n",
    "plt.plot(nrows, gpu_speeds, '-o', label='gpu', linewidth=2)\n",
    "plt.xlabel('Number of observations')\n",
    "plt.ylabel('Training time (seconds)')\n",
    "plt.title('Time comparison')\n",
    "plt.legend()\n",
    "plt.grid()\n",
    "plt.show()"
   ]
  },
  {
   "cell_type": "code",
   "execution_count": 19,
   "metadata": {},
   "outputs": [
    {
     "data": {
      "image/png": "[encoded data removed]",
      "text/plain": [
       "<Figure size 720x720 with 1 Axes>"
      ]
     },
     "metadata": {
      "needs_background": "light"
     },
     "output_type": "display_data"
    }
   ],
   "source": [
    "plt.figure(figsize=(10, 10))\n",
    "plt.plot(speeds['nrows'], speeds['difference'], '-o', linewidth=2)\n",
    "plt.xlabel('Number of observations')\n",
    "plt.ylabel('Difference in secods')\n",
    "plt.title('GPU and CPU training time difference')\n",
    "plt.grid()\n",
    "plt.show()"
   ]
  },
  {
   "cell_type": "code",
   "execution_count": 20,
   "metadata": {},
   "outputs": [
    {
     "data": {
      "text/html": [
       "<div>\n",
       "<style scoped>\n",
       "    .dataframe tbody tr th:only-of-type {\n",
       "        vertical-align: middle;\n",
       "    }\n",
       "\n",
       "    .dataframe tbody tr th {\n",
       "        vertical-align: top;\n",
       "    }\n",
       "\n",
       "    .dataframe thead th {\n",
       "        text-align: right;\n",
       "    }\n",
       "</style>\n",
       "<table border=\"1\" class=\"dataframe\">\n",
       "  <thead>\n",
       "    <tr style=\"text-align: right;\">\n",
       "      <th></th>\n",
       "      <th>nrows</th>\n",
       "      <th>cpu_speeds</th>\n",
       "      <th>gpu_speeds</th>\n",
       "      <th>difference</th>\n",
       "    </tr>\n",
       "  </thead>\n",
       "  <tbody>\n",
       "    <tr>\n",
       "      <th>0</th>\n",
       "      <td>10</td>\n",
       "      <td>0.095001</td>\n",
       "      <td>0.500010</td>\n",
       "      <td>-0.405008</td>\n",
       "    </tr>\n",
       "    <tr>\n",
       "      <th>1</th>\n",
       "      <td>100</td>\n",
       "      <td>0.094997</td>\n",
       "      <td>0.258008</td>\n",
       "      <td>-0.163011</td>\n",
       "    </tr>\n",
       "    <tr>\n",
       "      <th>2</th>\n",
       "      <td>200</td>\n",
       "      <td>0.134997</td>\n",
       "      <td>0.303062</td>\n",
       "      <td>-0.168065</td>\n",
       "    </tr>\n",
       "    <tr>\n",
       "      <th>3</th>\n",
       "      <td>3000</td>\n",
       "      <td>1.105017</td>\n",
       "      <td>0.730584</td>\n",
       "      <td>0.374433</td>\n",
       "    </tr>\n",
       "    <tr>\n",
       "      <th>4</th>\n",
       "      <td>5000</td>\n",
       "      <td>1.153641</td>\n",
       "      <td>0.864050</td>\n",
       "      <td>0.289591</td>\n",
       "    </tr>\n",
       "    <tr>\n",
       "      <th>5</th>\n",
       "      <td>10000</td>\n",
       "      <td>1.672150</td>\n",
       "      <td>1.121614</td>\n",
       "      <td>0.550536</td>\n",
       "    </tr>\n",
       "    <tr>\n",
       "      <th>6</th>\n",
       "      <td>20000</td>\n",
       "      <td>2.788064</td>\n",
       "      <td>1.416096</td>\n",
       "      <td>1.371967</td>\n",
       "    </tr>\n",
       "    <tr>\n",
       "      <th>7</th>\n",
       "      <td>50000</td>\n",
       "      <td>5.404272</td>\n",
       "      <td>2.044189</td>\n",
       "      <td>3.360084</td>\n",
       "    </tr>\n",
       "    <tr>\n",
       "      <th>8</th>\n",
       "      <td>100000</td>\n",
       "      <td>10.219326</td>\n",
       "      <td>3.126045</td>\n",
       "      <td>7.093281</td>\n",
       "    </tr>\n",
       "    <tr>\n",
       "      <th>9</th>\n",
       "      <td>300000</td>\n",
       "      <td>30.055232</td>\n",
       "      <td>6.948611</td>\n",
       "      <td>23.106621</td>\n",
       "    </tr>\n",
       "  </tbody>\n",
       "</table>\n",
       "</div>"
      ],
      "text/plain": [
       "    nrows  cpu_speeds  gpu_speeds  difference\n",
       "0      10    0.095001    0.500010   -0.405008\n",
       "1     100    0.094997    0.258008   -0.163011\n",
       "2     200    0.134997    0.303062   -0.168065\n",
       "3    3000    1.105017    0.730584    0.374433\n",
       "4    5000    1.153641    0.864050    0.289591\n",
       "5   10000    1.672150    1.121614    0.550536\n",
       "6   20000    2.788064    1.416096    1.371967\n",
       "7   50000    5.404272    2.044189    3.360084\n",
       "8  100000   10.219326    3.126045    7.093281\n",
       "9  300000   30.055232    6.948611   23.106621"
      ]
     },
     "execution_count": 20,
     "metadata": {},
     "output_type": "execute_result"
    }
   ],
   "source": [
    "speeds"
   ]
  },
  {
   "cell_type": "markdown",
   "metadata": {},
   "source": [
    "# Speed vs hp values"
   ]
  },
  {
   "cell_type": "code",
   "execution_count": 21,
   "metadata": {},
   "outputs": [],
   "source": [
    "# Defining the grid of parameters \n",
    "n_estimators = [30, 100, 200, 300, 600, 900]\n",
    "max_depth = [4, 6, 8, 12, 14, 16]\n",
    "\n",
    "# Number of rows to test on \n",
    "nrows = 30000\n",
    "\n",
    "# Creating a dictionary\n",
    "gpu_dict = {\n",
    "    'objective': ['reg:squarederror'], \n",
    "    'n_estimators': n_estimators,\n",
    "    'max_depth': max_depth,\n",
    "    'tree_method': ['gpu_hist']\n",
    "}\n",
    "\n",
    "cpu_dict = {\n",
    "    'objective': ['reg:squarederror'], \n",
    "    'n_estimators': n_estimators,\n",
    "    'max_depth': max_depth\n",
    "}\n",
    "\n",
    "# Creating the grid of hyper parameters \n",
    "gpu_hp = ParameterGrid(gpu_dict)\n",
    "cpu_hp = ParameterGrid(cpu_dict)\n",
    "\n",
    "# Getting the random subset of data \n",
    "subset = d.sample(nrows)"
   ]
  },
  {
   "cell_type": "code",
   "execution_count": 22,
   "metadata": {},
   "outputs": [
    {
     "name": "stderr",
     "output_type": "stream",
     "text": [
      "100%|██████████████████████████████████████████████████████████████████████████████████████████████████████████████████████████████████████████████████| 36/36 [08:24<00:00, 14.00s/it]\n"
     ]
    }
   ],
   "source": [
    "# Iterating through all hte hyper parameters: \n",
    "gpu_speeds = []\n",
    "for params in tqdm(gpu_hp):\n",
    "    # Creating X and Y \n",
    "    X = pd.get_dummies(subset[features])\n",
    "    Y = subset['Sales']\n",
    "    \n",
    "    # Initiating the model objects\n",
    "    gpu = xgb.XGBRegressor(**params)\n",
    "    \n",
    "    # Training on cpu \n",
    "    start = time.time()\n",
    "    gpu.fit(X, Y)\n",
    "    gpu_speed = time.time() - start\n",
    "    \n",
    "    gpu_speeds.append(gpu_speed)"
   ]
  },
  {
   "cell_type": "code",
   "execution_count": 23,
   "metadata": {},
   "outputs": [
    {
     "name": "stderr",
     "output_type": "stream",
     "text": [
      "100%|██████████████████████████████████████████████████████████████████████████████████████████████████████████████████████████████████████████████████| 36/36 [10:40<00:00, 17.79s/it]\n"
     ]
    }
   ],
   "source": [
    "# Iterating through all hte hyper parameters: \n",
    "cpu_speeds = []\n",
    "for params in tqdm(cpu_hp):\n",
    "    # Creating X and Y \n",
    "    X = pd.get_dummies(subset[features])\n",
    "    Y = subset['Sales']\n",
    "    \n",
    "    # Initiating the model objects\n",
    "    cpu = xgb.XGBRegressor(**params)\n",
    "    \n",
    "    # Training on cpu \n",
    "    start = time.time()\n",
    "    cpu.fit(X, Y)\n",
    "    cpu_speed = time.time() - start\n",
    "    \n",
    "    cpu_speeds.append(cpu_speed)"
   ]
  },
  {
   "cell_type": "code",
   "execution_count": 24,
   "metadata": {},
   "outputs": [],
   "source": [
    "# Creating the speed frame \n",
    "speeds = pd.DataFrame({\n",
    "    'n_estimators': [x.get('n_estimators') for x in list(cpu_hp)],\n",
    "    'max_depth': [x.get('max_depth') for x in list(cpu_hp)],\n",
    "    'cpu_speed': cpu_speeds,\n",
    "    'gpu_speed': gpu_speeds\n",
    "})\n",
    "\n",
    "# Diff of speed between GPU and CPU\n",
    "speeds['diff'] = speeds['cpu_speed'] - speeds['gpu_speed']"
   ]
  },
  {
   "cell_type": "code",
   "execution_count": 25,
   "metadata": {},
   "outputs": [
    {
     "data": {
      "text/html": [
       "<div>\n",
       "<style scoped>\n",
       "    .dataframe tbody tr th:only-of-type {\n",
       "        vertical-align: middle;\n",
       "    }\n",
       "\n",
       "    .dataframe tbody tr th {\n",
       "        vertical-align: top;\n",
       "    }\n",
       "\n",
       "    .dataframe thead th {\n",
       "        text-align: right;\n",
       "    }\n",
       "</style>\n",
       "<table border=\"1\" class=\"dataframe\">\n",
       "  <thead>\n",
       "    <tr style=\"text-align: right;\">\n",
       "      <th></th>\n",
       "      <th>n_estimators</th>\n",
       "      <th>max_depth</th>\n",
       "      <th>cpu_speed</th>\n",
       "      <th>gpu_speed</th>\n",
       "      <th>diff</th>\n",
       "    </tr>\n",
       "  </thead>\n",
       "  <tbody>\n",
       "    <tr>\n",
       "      <th>9</th>\n",
       "      <td>300</td>\n",
       "      <td>6</td>\n",
       "      <td>9.844275</td>\n",
       "      <td>4.501266</td>\n",
       "      <td>5.343009</td>\n",
       "    </tr>\n",
       "    <tr>\n",
       "      <th>23</th>\n",
       "      <td>900</td>\n",
       "      <td>12</td>\n",
       "      <td>51.327327</td>\n",
       "      <td>45.639447</td>\n",
       "      <td>5.687880</td>\n",
       "    </tr>\n",
       "    <tr>\n",
       "      <th>15</th>\n",
       "      <td>300</td>\n",
       "      <td>8</td>\n",
       "      <td>12.489322</td>\n",
       "      <td>6.744405</td>\n",
       "      <td>5.744918</td>\n",
       "    </tr>\n",
       "    <tr>\n",
       "      <th>22</th>\n",
       "      <td>600</td>\n",
       "      <td>12</td>\n",
       "      <td>34.398166</td>\n",
       "      <td>28.522465</td>\n",
       "      <td>5.875700</td>\n",
       "    </tr>\n",
       "    <tr>\n",
       "      <th>4</th>\n",
       "      <td>600</td>\n",
       "      <td>4</td>\n",
       "      <td>14.898931</td>\n",
       "      <td>5.145049</td>\n",
       "      <td>9.753882</td>\n",
       "    </tr>\n",
       "    <tr>\n",
       "      <th>16</th>\n",
       "      <td>600</td>\n",
       "      <td>8</td>\n",
       "      <td>24.467096</td>\n",
       "      <td>14.251184</td>\n",
       "      <td>10.215912</td>\n",
       "    </tr>\n",
       "    <tr>\n",
       "      <th>10</th>\n",
       "      <td>600</td>\n",
       "      <td>6</td>\n",
       "      <td>19.502752</td>\n",
       "      <td>8.855813</td>\n",
       "      <td>10.646939</td>\n",
       "    </tr>\n",
       "    <tr>\n",
       "      <th>5</th>\n",
       "      <td>900</td>\n",
       "      <td>4</td>\n",
       "      <td>22.307620</td>\n",
       "      <td>7.540927</td>\n",
       "      <td>14.766693</td>\n",
       "    </tr>\n",
       "    <tr>\n",
       "      <th>11</th>\n",
       "      <td>900</td>\n",
       "      <td>6</td>\n",
       "      <td>29.451284</td>\n",
       "      <td>13.247493</td>\n",
       "      <td>16.203791</td>\n",
       "    </tr>\n",
       "    <tr>\n",
       "      <th>17</th>\n",
       "      <td>900</td>\n",
       "      <td>8</td>\n",
       "      <td>37.383435</td>\n",
       "      <td>20.444317</td>\n",
       "      <td>16.939118</td>\n",
       "    </tr>\n",
       "  </tbody>\n",
       "</table>\n",
       "</div>"
      ],
      "text/plain": [
       "    n_estimators  max_depth  cpu_speed  gpu_speed       diff\n",
       "9            300          6   9.844275   4.501266   5.343009\n",
       "23           900         12  51.327327  45.639447   5.687880\n",
       "15           300          8  12.489322   6.744405   5.744918\n",
       "22           600         12  34.398166  28.522465   5.875700\n",
       "4            600          4  14.898931   5.145049   9.753882\n",
       "16           600          8  24.467096  14.251184  10.215912\n",
       "10           600          6  19.502752   8.855813  10.646939\n",
       "5            900          4  22.307620   7.540927  14.766693\n",
       "11           900          6  29.451284  13.247493  16.203791\n",
       "17           900          8  37.383435  20.444317  16.939118"
      ]
     },
     "execution_count": 25,
     "metadata": {},
     "output_type": "execute_result"
    }
   ],
   "source": [
    "speeds.sort_values('diff').tail(10)"
   ]
  },
  {
   "cell_type": "markdown",
   "metadata": {},
   "source": [
    "## Aproximating the difference in speeds based on hp"
   ]
  },
  {
   "cell_type": "code",
   "execution_count": 26,
   "metadata": {},
   "outputs": [],
   "source": [
    "X, Y = np.meshgrid(n_estimators, max_depth)"
   ]
  },
  {
   "cell_type": "code",
   "execution_count": 27,
   "metadata": {},
   "outputs": [],
   "source": [
    "Z = speeds['diff'].values\n",
    "Z = np.array(Z).reshape((len(n_estimators), len(max_depth)))"
   ]
  },
  {
   "cell_type": "code",
   "execution_count": 28,
   "metadata": {},
   "outputs": [
    {
     "data": {
      "image/png": "[encoded data removed]",
      "text/plain": [
       "<Figure size 864x864 with 1 Axes>"
      ]
     },
     "metadata": {
      "needs_background": "light"
     },
     "output_type": "display_data"
    }
   ],
   "source": [
    "fig = plt.figure(figsize=(12, 12))\n",
    "ax = plt.axes(projection='3d')\n",
    "#ax.view_init(45, 45)\n",
    "ax.plot_surface(X, Y, Z, rstride=1, cstride=1, edgecolor='none', alpha=0.7)\n",
    "ax.set_xlabel('n_estimators')\n",
    "ax.set_ylabel('max_depth')\n",
    "ax.set_zlabel('GPU speed advantage (s)')\n",
    "plt.show()"
   ]
  },
  {
   "cell_type": "code",
   "execution_count": null,
   "metadata": {},
   "outputs": [],
   "source": []
  }
 ],
 "metadata": {
  "kernelspec": {
   "display_name": "gpu",
   "language": "python",
   "name": "gpu"
  },
  "language_info": {
   "codemirror_mode": {
    "name": "ipython",
    "version": 3
   },
   "file_extension": ".py",
   "mimetype": "text/x-python",
   "name": "python",
   "nbconvert_exporter": "python",
   "pygments_lexer": "ipython3",
   "version": "3.9.5"
  }
 },
 "nbformat": 4,
 "nbformat_minor": 4
}
